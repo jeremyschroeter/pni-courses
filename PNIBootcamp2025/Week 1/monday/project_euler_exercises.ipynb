{
 "cells": [
  {
   "cell_type": "markdown",
   "id": "d64550e8",
   "metadata": {},
   "source": [
    "# Problem 1"
   ]
  },
  {
   "cell_type": "code",
   "execution_count": null,
   "id": "3b5fddcf",
   "metadata": {},
   "outputs": [
    {
     "name": "stdout",
     "output_type": "stream",
     "text": [
      "234168\n"
     ]
    }
   ],
   "source": [
    "up_to_1k = list(range(1001))\n",
    "multiples_of_3_or_5 = [i for i in up_to_1k\n",
    "                       if (i % 3 == 0) | (i % 5 == 0)]\n",
    "summed_numbers = sum(multiples_of_3_or_5)\n",
    "print(summed_numbers)"
   ]
  },
  {
   "cell_type": "markdown",
   "id": "1d9ce553",
   "metadata": {},
   "source": [
    "# Problem 2"
   ]
  },
  {
   "cell_type": "code",
   "execution_count": 12,
   "id": "87942cc5",
   "metadata": {},
   "outputs": [
    {
     "name": "stdout",
     "output_type": "stream",
     "text": [
      "4613732\n"
     ]
    }
   ],
   "source": [
    "fib_start = [1, 2]\n",
    "even_valued_sum = 2\n",
    "\n",
    "while fib_start[-1] < 4e6:\n",
    "    new_num = fib_start[-2] + fib_start[-1]\n",
    "    fib_start.append(new_num)\n",
    "    if new_num % 2 == 0:\n",
    "        even_valued_sum += new_num\n",
    "\n",
    "print(even_valued_sum)"
   ]
  },
  {
   "cell_type": "code",
   "execution_count": 18,
   "id": "e129631f",
   "metadata": {},
   "outputs": [
    {
     "ename": "ModuleNotFoundError",
     "evalue": "No module named 'numpy'",
     "output_type": "error",
     "traceback": [
      "\u001b[31m---------------------------------------------------------------------------\u001b[39m",
      "\u001b[31mModuleNotFoundError\u001b[39m                       Traceback (most recent call last)",
      "\u001b[36mCell\u001b[39m\u001b[36m \u001b[39m\u001b[32mIn[18]\u001b[39m\u001b[32m, line 1\u001b[39m\n\u001b[32m----> \u001b[39m\u001b[32m1\u001b[39m \u001b[38;5;28;01mimport\u001b[39;00m\u001b[38;5;250m \u001b[39m\u001b[34;01mnumpy\u001b[39;00m\u001b[38;5;250m \u001b[39m\u001b[38;5;28;01mas\u001b[39;00m\u001b[38;5;250m \u001b[39m\u001b[34;01mnp\u001b[39;00m\n",
      "\u001b[31mModuleNotFoundError\u001b[39m: No module named 'numpy'"
     ]
    }
   ],
   "source": [
    "import numpy as np"
   ]
  },
  {
   "cell_type": "code",
   "execution_count": null,
   "id": "243500ed",
   "metadata": {},
   "outputs": [],
   "source": []
  }
 ],
 "metadata": {
  "kernelspec": {
   "display_name": "pni_bootcamp",
   "language": "python",
   "name": "python3"
  },
  "language_info": {
   "codemirror_mode": {
    "name": "ipython",
    "version": 3
   },
   "file_extension": ".py",
   "mimetype": "text/x-python",
   "name": "python",
   "nbconvert_exporter": "python",
   "pygments_lexer": "ipython3",
   "version": "3.12.5"
  }
 },
 "nbformat": 4,
 "nbformat_minor": 5
}

{
 "cells": [
  {
   "cell_type": "markdown",
   "metadata": {
    "id": "IF7u7bN3jALX"
   },
   "source": [
    "## Bootcamp 2023 W1D3 - Functions and FILE IO\n",
    "\n",
    "This notebook covers the basic construction of python functions and file IO"
   ]
  },
  {
   "cell_type": "markdown",
   "metadata": {
    "id": "vbsjhlVvj_l_"
   },
   "source": [
    "## Try writing functions with the annotation format to increase readability:\n",
    "## `variable: type, variable: type, ... -> return_type`\n",
    "\n",
    "## Exercise 1"
   ]
  },
  {
   "cell_type": "markdown",
   "metadata": {
    "id": "LlwdGb1LkBcl"
   },
   "source": [
    "### a) Write a function `my_first_function` that returns the string \"Hello World!\" with no input\n",
    "\n",
    "### b) Write a function `custom_hello` that returns the string \"Hello World, [name]!\" with an input variable `name` that customises the output string.\n",
    "\n",
    "### c) Write a function `default_hello` that returns the string \"Hello World, PNI!\" with a default argument `name` set as \"PNI\""
   ]
  },
  {
   "cell_type": "code",
   "execution_count": 11,
   "metadata": {
    "id": "2TuRBIgZg6XU"
   },
   "outputs": [],
   "source": [
    "### a) Your code starts here\n",
    "def my_first_function() -> None:\n",
    "    return \"Hello World!\"\n",
    "### b) Your code starts here\n",
    "def custom_hello(name: str) -> None:\n",
    "    return f\"Hello World, {name}!\"\n",
    "\n",
    "### c) your code starts here\n",
    "def default_hello(name: str = 'PNI') -> None:\n",
    "    return f\"Hello World, {name}!\""
   ]
  },
  {
   "cell_type": "markdown",
   "metadata": {
    "id": "iWT3xlIok70z"
   },
   "source": [
    "#### Hidden tests"
   ]
  },
  {
   "cell_type": "code",
   "execution_count": 12,
   "metadata": {
    "id": "6aB51nRgk4eG"
   },
   "outputs": [],
   "source": [
    "assert my_first_function() == \"Hello World!\", \"Test for exercise 1a failed\"\n",
    "assert custom_hello(\"abc\") == \"Hello World, abc!\", \"Test for exercise 1b failed\"\n",
    "assert default_hello() == \"Hello World, PNI!\", \"Test for exercise 1c failed\"\n",
    "assert default_hello(\"abc\") == \"Hello World, abc!\", \"Test for exercise 1c failed\""
   ]
  },
  {
   "cell_type": "markdown",
   "metadata": {
    "id": "8JYnBPv-lOUx"
   },
   "source": [
    "Differences between positional and keyword arguments, and *args\n",
    "\n",
    "### d) Write a function `function_1d` that takes in three variables: `a`, `b`, and `c` and outputs `a * b + c`. Run the function with the call `function_1d(a = 3, b = 1, c = 2)`, compare it with the call `function_1d(c = 2, a = 3, b =1)`\n",
    "\n",
    "### e) Try running `function_1d(2, 3, 1)`, what is the difference? How can you return the right result?\n",
    "\n",
    "### f) Write a function `infinite_sum` that takes in all variables in a function call and output the sum of all inputs. Try with the function call `infinite_sum(0, 1, 2)` and `infinite_sum(1, 10, 2, 9, 3, 8)`"
   ]
  },
  {
   "cell_type": "code",
   "execution_count": 20,
   "metadata": {
    "id": "Ip9-Y59clM83"
   },
   "outputs": [
    {
     "name": "stdout",
     "output_type": "stream",
     "text": [
      "5 5\n",
      "7\n"
     ]
    },
    {
     "data": {
      "text/plain": [
       "(5, 33)"
      ]
     },
     "execution_count": 20,
     "metadata": {},
     "output_type": "execute_result"
    }
   ],
   "source": [
    "### d) Your code starts here\n",
    "def function_1d(a, b, c):\n",
    "    return a * b + c\n",
    "print(function_1d(a=3, b=1, c=2), function_1d(c=2, a=3, b=1))\n",
    "### e) Your code starts here\n",
    "print(function_1d(2, 3, 1))\n",
    "\n",
    "### f) Your code starts here\n",
    "def infinite_sum(*args):\n",
    "    return sum(list(args))\n",
    "\n",
    "infinite_sum(0, 2, 3), infinite_sum(1, 10, 2, 9, 3, 8)\n"
   ]
  },
  {
   "cell_type": "markdown",
   "metadata": {
    "id": "aQNE9QEPpYHh"
   },
   "source": [
    "#### Hidden tests"
   ]
  },
  {
   "cell_type": "code",
   "execution_count": 21,
   "metadata": {
    "id": "NrbmpflDpal4"
   },
   "outputs": [],
   "source": [
    "assert function_1d(a = 3, b = 1, c = 2) == 5, \"Test for exercise 1d failed\"\n",
    "assert infinite_sum(1, 10, 2, 9, 3, 8) == 33, \"Test for exercise 1e failed\""
   ]
  },
  {
   "cell_type": "markdown",
   "metadata": {
    "id": "tQxsHmb2pqlM"
   },
   "source": [
    "### g) Write a function `is_palindrome(input_str)` that determines whether the input string is a palindrome. The output should be a boolean value of True or False. Examples include: \"radar\", \"1234321\"\n",
    "\n",
    "### h) Write a function `palindrome_sum(input_str)` that returns the sum of a palindrome number. if the input is not integer, return \"Try again with an integer\", if the input is not palindrome, return \"Try again with a palindrome number!\"\n",
    "\n",
    "### i) We briefly talked about recursion during lecture. Try to write a function `fibonacci(n)` where the nth fibonacci number is returned. You can read more about fibonacci number [here](https://www.wikiwand.com/en/Fibonacci_sequence)"
   ]
  },
  {
   "cell_type": "code",
   "execution_count": 48,
   "metadata": {
    "id": "jpuyBZA7rLwH"
   },
   "outputs": [],
   "source": [
    "### g) Your code starts here\n",
    "def is_palindrome(input_str):\n",
    "    return input_str == input_str[::-1]\n",
    "\n",
    "### h) Your code starts here\n",
    "def palindrome_sum(input_str):\n",
    "    try:\n",
    "        input_str = int(input_str)\n",
    "        print('not an int')\n",
    "    except:\n",
    "        return \"Try again with an integer\"\n",
    "    if input_str != input_str[::-1]:\n",
    "        return \"Try again with a palindrome number!\"\n",
    "    else:\n",
    "        return sum([int(digit) for digit in input_str])\n",
    "    \n",
    "### i) Your code starts here\n",
    "def fibonacci(n):\n",
    "    if n <= 0:\n",
    "        return 0\n",
    "    elif n == 1:\n",
    "        return 1\n",
    "    else:\n",
    "        return fibonacci(n - 1) + fibonacci(n - 2)"
   ]
  },
  {
   "cell_type": "code",
   "execution_count": 49,
   "metadata": {},
   "outputs": [
    {
     "name": "stdout",
     "output_type": "stream",
     "text": [
      "not an int\n"
     ]
    },
    {
     "ename": "TypeError",
     "evalue": "'int' object is not subscriptable",
     "output_type": "error",
     "traceback": [
      "\u001b[31m---------------------------------------------------------------------------\u001b[39m",
      "\u001b[31mTypeError\u001b[39m                                 Traceback (most recent call last)",
      "\u001b[36mCell\u001b[39m\u001b[36m \u001b[39m\u001b[32mIn[49]\u001b[39m\u001b[32m, line 1\u001b[39m\n\u001b[32m----> \u001b[39m\u001b[32m1\u001b[39m \u001b[43mpalindrome_sum\u001b[49m\u001b[43m(\u001b[49m\u001b[33;43m\"\u001b[39;49m\u001b[33;43m12321\u001b[39;49m\u001b[33;43m\"\u001b[39;49m\u001b[43m)\u001b[49m\n",
      "\u001b[36mCell\u001b[39m\u001b[36m \u001b[39m\u001b[32mIn[48]\u001b[39m\u001b[32m, line 12\u001b[39m, in \u001b[36mpalindrome_sum\u001b[39m\u001b[34m(input_str)\u001b[39m\n\u001b[32m     10\u001b[39m \u001b[38;5;28;01mexcept\u001b[39;00m:\n\u001b[32m     11\u001b[39m     \u001b[38;5;28;01mreturn\u001b[39;00m \u001b[33m\"\u001b[39m\u001b[33mTry again with an integer\u001b[39m\u001b[33m\"\u001b[39m\n\u001b[32m---> \u001b[39m\u001b[32m12\u001b[39m \u001b[38;5;28;01mif\u001b[39;00m input_str != \u001b[43minput_str\u001b[49m\u001b[43m[\u001b[49m\u001b[43m:\u001b[49m\u001b[43m:\u001b[49m\u001b[43m-\u001b[49m\u001b[32;43m1\u001b[39;49m\u001b[43m]\u001b[49m:\n\u001b[32m     13\u001b[39m     \u001b[38;5;28;01mreturn\u001b[39;00m \u001b[33m\"\u001b[39m\u001b[33mTry again with a palindrome number!\u001b[39m\u001b[33m\"\u001b[39m\n\u001b[32m     14\u001b[39m \u001b[38;5;28;01melse\u001b[39;00m:\n",
      "\u001b[31mTypeError\u001b[39m: 'int' object is not subscriptable"
     ]
    }
   ],
   "source": [
    "palindrome_sum(\"12321\")"
   ]
  },
  {
   "cell_type": "markdown",
   "metadata": {
    "id": "5g8wL2aTwNDP"
   },
   "source": [
    "#### Hidden tests"
   ]
  },
  {
   "cell_type": "code",
   "execution_count": 50,
   "metadata": {
    "id": "xC3nE_FxtDLy"
   },
   "outputs": [
    {
     "name": "stdout",
     "output_type": "stream",
     "text": [
      "not an int\n"
     ]
    },
    {
     "ename": "TypeError",
     "evalue": "'int' object is not subscriptable",
     "output_type": "error",
     "traceback": [
      "\u001b[31m---------------------------------------------------------------------------\u001b[39m",
      "\u001b[31mTypeError\u001b[39m                                 Traceback (most recent call last)",
      "\u001b[36mCell\u001b[39m\u001b[36m \u001b[39m\u001b[32mIn[50]\u001b[39m\u001b[32m, line 4\u001b[39m\n\u001b[32m      1\u001b[39m \u001b[38;5;28;01massert\u001b[39;00m is_palindrome(\u001b[33m\"\u001b[39m\u001b[33mradar\u001b[39m\u001b[33m\"\u001b[39m), \u001b[33m\"\u001b[39m\u001b[33mTest for exercise 1g failed\u001b[39m\u001b[33m\"\u001b[39m\n\u001b[32m      2\u001b[39m \u001b[38;5;28;01massert\u001b[39;00m \u001b[38;5;129;01mnot\u001b[39;00m is_palindrome(\u001b[33m\"\u001b[39m\u001b[33m123\u001b[39m\u001b[33m\"\u001b[39m), \u001b[33m\"\u001b[39m\u001b[33mTest for exercise 1g failed\u001b[39m\u001b[33m\"\u001b[39m\n\u001b[32m----> \u001b[39m\u001b[32m4\u001b[39m \u001b[38;5;28;01massert\u001b[39;00m \u001b[43mpalindrome_sum\u001b[49m\u001b[43m(\u001b[49m\u001b[33;43m\"\u001b[39;49m\u001b[33;43m12321\u001b[39;49m\u001b[33;43m\"\u001b[39;49m\u001b[43m)\u001b[49m == \u001b[32m9\u001b[39m, \u001b[33m\"\u001b[39m\u001b[33mTest for exercise 1h failed\u001b[39m\u001b[33m\"\u001b[39m\n\u001b[32m      5\u001b[39m \u001b[38;5;28;01massert\u001b[39;00m palindrome_sum(\u001b[33m\"\u001b[39m\u001b[33mabc\u001b[39m\u001b[33m\"\u001b[39m) == \u001b[33m\"\u001b[39m\u001b[33mTry again with an integer!\u001b[39m\u001b[33m\"\u001b[39m, \u001b[33m\"\u001b[39m\u001b[33mTest for exercise 1h failed\u001b[39m\u001b[33m\"\u001b[39m\n\u001b[32m      6\u001b[39m \u001b[38;5;28;01massert\u001b[39;00m palindrome_sum(\u001b[33m\"\u001b[39m\u001b[33m123\u001b[39m\u001b[33m\"\u001b[39m) == \u001b[33m\"\u001b[39m\u001b[33mTry again with a palindrome number!\u001b[39m\u001b[33m\"\u001b[39m, \u001b[33m\"\u001b[39m\u001b[33mTest for exercise 1h failed\u001b[39m\u001b[33m\"\u001b[39m\n",
      "\u001b[36mCell\u001b[39m\u001b[36m \u001b[39m\u001b[32mIn[48]\u001b[39m\u001b[32m, line 12\u001b[39m, in \u001b[36mpalindrome_sum\u001b[39m\u001b[34m(input_str)\u001b[39m\n\u001b[32m     10\u001b[39m \u001b[38;5;28;01mexcept\u001b[39;00m:\n\u001b[32m     11\u001b[39m     \u001b[38;5;28;01mreturn\u001b[39;00m \u001b[33m\"\u001b[39m\u001b[33mTry again with an integer\u001b[39m\u001b[33m\"\u001b[39m\n\u001b[32m---> \u001b[39m\u001b[32m12\u001b[39m \u001b[38;5;28;01mif\u001b[39;00m input_str != \u001b[43minput_str\u001b[49m\u001b[43m[\u001b[49m\u001b[43m:\u001b[49m\u001b[43m:\u001b[49m\u001b[43m-\u001b[49m\u001b[32;43m1\u001b[39;49m\u001b[43m]\u001b[49m:\n\u001b[32m     13\u001b[39m     \u001b[38;5;28;01mreturn\u001b[39;00m \u001b[33m\"\u001b[39m\u001b[33mTry again with a palindrome number!\u001b[39m\u001b[33m\"\u001b[39m\n\u001b[32m     14\u001b[39m \u001b[38;5;28;01melse\u001b[39;00m:\n",
      "\u001b[31mTypeError\u001b[39m: 'int' object is not subscriptable"
     ]
    }
   ],
   "source": [
    "assert is_palindrome(\"radar\"), \"Test for exercise 1g failed\"\n",
    "assert not is_palindrome(\"123\"), \"Test for exercise 1g failed\"\n",
    "\n",
    "assert palindrome_sum(\"12321\") == 9, \"Test for exercise 1h failed\"\n",
    "assert palindrome_sum(\"abc\") == \"Try again with an integer!\", \"Test for exercise 1h failed\"\n",
    "assert palindrome_sum(\"123\") == \"Try again with a palindrome number!\", \"Test for exercise 1h failed\"\n",
    "\n",
    "assert fibonacci(10) == 55, \"Test for exercise 1i failed\""
   ]
  },
  {
   "cell_type": "markdown",
   "metadata": {
    "id": "lx6FVrNDwS1H"
   },
   "source": [
    "### j) Write a lambda function `square_func` that automatically return the square of the input and try `square_func(5)`\n",
    "\n",
    "### k) As discussed in the lecture, lambda fucntions are very useful to be used with `map` function, try to write a lambda function `to_percent` that changes a decimal (0.7) to a percentage (70%). Apply this function to every element in the list `list_1k` , save the result in `list_1k_percentage`, and print out the result"
   ]
  },
  {
   "cell_type": "code",
   "execution_count": 30,
   "metadata": {
    "id": "2lX_XGzswSEz"
   },
   "outputs": [],
   "source": [
    "list_1k = [.05, .70, .80, .12, .40, .99]\n",
    "\n",
    "### j) Your code starts here\n",
    "square_func = lambda x: x ** 2\n",
    "### k) Your code starts here\n",
    "to_percent = lambda x: x * 100\n",
    "\n",
    "list_1k_percentage = list(map(to_percent, list_1k))"
   ]
  },
  {
   "cell_type": "markdown",
   "metadata": {
    "id": "4c4Lvp7oTEZ1"
   },
   "source": [
    "#### Hidden tests"
   ]
  },
  {
   "cell_type": "code",
   "execution_count": 31,
   "metadata": {
    "id": "B2KauOcfTDe4"
   },
   "outputs": [],
   "source": [
    "assert square_func(5) == 25, \"Test for exercise 1j failed\"\n",
    "assert list_1k_percentage == [5.0, 70.0, 80.0, 12.0, 40.0, 99.0], \"Test for exercise 1k failed\""
   ]
  },
  {
   "cell_type": "markdown",
   "metadata": {
    "id": "CtHNsqAvTa46"
   },
   "source": [
    "## Exercise 2: File IO\n",
    "\n",
    "Download the files from [here](https://www.ssa.gov/oact/babynames/names.zip) using `!wget` (for linux/ mac), unzip the files and put the files in the same directory. You can also just download the files manually and put them in the same directory as this notebook.\n",
    "\n",
    "read more about using command lines on python here: http://ipython.readthedocs.io/en/stable/interactive/magics.html#magic-system"
   ]
  },
  {
   "cell_type": "markdown",
   "metadata": {
    "id": "VYQQHOkoTfky"
   },
   "source": [
    "### a) Read in the file `yob1900.txt` and print out its first line, confirm that is starts with `Mary`. Read all lines and store it in `names_1900`. Inspect he variable and understand what is the structure of the file. Describe what each column represents.\n",
    "\n",
    "### b) Write a new row into the file `yob1900.txt`. You can customise what the row contains, but try to stay the same format as the other rows. Read the file again and confirm that your new row is there."
   ]
  },
  {
   "cell_type": "code",
   "execution_count": 64,
   "metadata": {
    "id": "chm2e7rhTe0Y"
   },
   "outputs": [
    {
     "name": "stdout",
     "output_type": "stream",
     "text": [
      "Mary,F,16705\n",
      "\n",
      "Jeremy,M,100\n"
     ]
    }
   ],
   "source": [
    "data_path = 'names/yob1900.txt'\n",
    "\n",
    "### a) Your code starts here\n",
    "with open(data_path, 'r') as f:\n",
    "    names_1900 = f.readlines()\n",
    "    print(names_1900[0])\n",
    "\n",
    "### b) Your code starts here\n",
    "with open(data_path, 'a') as f:\n",
    "    f.writelines('Jeremy,M,100')\n",
    "\n",
    "with open(data_path, 'r') as f:\n",
    "    names_1900 = f.readlines()\n",
    "    print(names_1900[-1])\n"
   ]
  },
  {
   "cell_type": "markdown",
   "metadata": {
    "id": "qneDxtOciMpl"
   },
   "source": [
    "### c) Write a function `read_text` that does the following: given a string `year`, the function reads in the corresponding file and returns three lists: `names`, `genders`, and `counts`. For example, `read_text('2011')` should return the lists `['Jacob', 'Isabella', ...]`, `['M', 'F', ...]`, and `[20331, 22222, ...]`. (Hint: you can use the `split` method to split a string into a list of strings. For example, `'a b c'.split(' ')` returns `['a', 'b', 'c']`.) Try calling your function with different year to make sure it works.\n",
    "\n",
    "### d) Write a function `mean` that takes a list of numbers and returns the mean of the numbers. For example, `mean([1, 2, 3])` should return `2.0`. (Hint: you can use the `sum` function to sum up all the numbers in a list. For example, `sum([1, 2, 3])` returns `6`.)\n",
    "\n",
    "### e) Write a function `median` that takes a list of numbers and returns the median of the numbers. For example, `median([1, 2, 3])` should return `2.0`. (Hint: you can use the `sorted` function to sort a list. For example, `sorted([3, 2, 1])` returns `[1, 2, 3]`.)"
   ]
  },
  {
   "cell_type": "code",
   "execution_count": null,
   "metadata": {
    "id": "PoLK8LeBiMpm"
   },
   "outputs": [],
   "source": [
    "### c) Your code starts here\n",
    "\n",
    "### d) Your code starts here\n",
    "\n",
    "### e) Your code starts here"
   ]
  },
  {
   "cell_type": "markdown",
   "metadata": {
    "id": "mWXeaTCPiMpm"
   },
   "source": [
    "#### Hidden tests"
   ]
  },
  {
   "cell_type": "code",
   "execution_count": null,
   "metadata": {
    "id": "PuD_RoJriMpm"
   },
   "outputs": [],
   "source": [
    "assert mean([1, 2, 3, 4, 5]) == 3.0, \"Test for exercise 2d failed\"\n",
    "assert median([1, 2, 3]) == 2, \"Test for exercise 2e failed\""
   ]
  },
  {
   "cell_type": "markdown",
   "metadata": {
    "id": "hez1AyObiMpm"
   },
   "source": [
    "###"
   ]
  },
  {
   "cell_type": "markdown",
   "metadata": {
    "id": "YYXC0hnyiMpm"
   },
   "source": [
    "### f) Write a function `qualitative_summary` that takes in the list of `names`, `genders`, `counts`, and `n` and output the `n` most popular names for each gender in the format: `Rank. Female Name: Count, Male Name: Count`\n",
    "\n",
    "Tips: the file is already sorted!\n",
    "\n",
    "### g) Write a function `quantitative_summary` that akes in the list `names`, `genders`, and `counts` and output the mean, median, max, min of names for each gender in the format:\n",
    "\n",
    "`Female: Mean Count, Median Count, Max name, Min name`\n",
    "\n",
    "`Male: Mean Count, Median Count, Max name, Min name`"
   ]
  },
  {
   "cell_type": "code",
   "execution_count": 69,
   "metadata": {},
   "outputs": [
    {
     "data": {
      "text/plain": [
       "['Mary', 'F', '16705\\n']"
      ]
     },
     "execution_count": 69,
     "metadata": {},
     "output_type": "execute_result"
    }
   ],
   "source": [
    "names_1900[0].split(',')"
   ]
  },
  {
   "cell_type": "code",
   "execution_count": null,
   "metadata": {
    "id": "QyeR6yy0iMpm"
   },
   "outputs": [
    {
     "name": "stdout",
     "output_type": "stream",
     "text": [
      "['John,M,9828\\n', 'William,M,8579\\n', 'James,M,7245\\n', 'George,M,5403\\n', 'Charles,M,4098\\n', 'Robert,M,3821\\n', 'Joseph,M,3714\\n', 'Frank,M,3477\\n', 'Edward,M,2720\\n', 'Henry,M,2606\\n', 'Thomas,M,2556\\n', 'Walter,M,2298\\n', 'Harry,M,2272\\n', 'Willie,M,2113\\n', 'Arthur,M,1853\\n', 'Albert,M,1741\\n', 'Fred,M,1646\\n', 'Clarence,M,1483\\n', 'Paul,M,1288\\n', 'Harold,M,1245\\n', 'Roy,M,1215\\n', 'Joe,M,1179\\n', 'Raymond,M,1150\\n', 'Richard,M,1141\\n', 'Charlie,M,1124\\n', 'Louis,M,1097\\n', 'Jack,M,1053\\n', 'Earl,M,1037\\n', 'Carl,M,1016\\n', 'Ernest,M,1012\\n', 'Ralph,M,896\\n', 'David,M,883\\n', 'Samuel,M,877\\n', 'Sam,M,821\\n', 'Howard,M,779\\n', 'Herbert,M,751\\n', 'Andrew,M,718\\n', 'Elmer,M,699\\n', 'Lee,M,675\\n', 'Lawrence,M,659\\n', 'Francis,M,652\\n', 'Alfred,M,640\\n', 'Will,M,603\\n', 'Daniel,M,598\\n', 'Eugene,M,587\\n', 'Leo,M,570\\n', 'Oscar,M,563\\n', 'Floyd,M,555\\n', 'Herman,M,550\\n', 'Jesse,M,536\\n', 'Michael,M,495\\n', 'Lewis,M,469\\n', 'Tom,M,469\\n', 'Leonard,M,465\\n', 'Ray,M,457\\n', 'Clyde,M,451\\n', 'Benjamin,M,450\\n', 'Peter,M,443\\n', 'Claude,M,433\\n', 'Lester,M,431\\n', 'Theodore,M,429\\n', 'Russell,M,427\\n', 'Eddie,M,425\\n', 'Frederick,M,420\\n', 'Leroy,M,419\\n', 'Clifford,M,409\\n', 'Anthony,M,406\\n', 'Jim,M,399\\n', 'Jessie,M,398\\n', 'Martin,M,383\\n', 'Edgar,M,374\\n', 'Chester,M,364\\n', 'Ben,M,355\\n', 'Edwin,M,350\\n', 'Dewey,M,345\\n', 'Cecil,M,344\\n', 'Stanley,M,342\\n', 'Lloyd,M,337\\n', 'Donald,M,328\\n', 'Homer,M,326\\n', 'Harvey,M,322\\n', 'Luther,M,316\\n', 'Norman,M,316\\n', 'Johnnie,M,313\\n', 'Leon,M,310\\n', 'Bernard,M,308\\n', 'Ed,M,297\\n', 'Hugh,M,290\\n', 'Patrick,M,285\\n', 'Kenneth,M,279\\n', 'Leslie,M,275\\n', 'Victor,M,269\\n', 'Alexander,M,260\\n', 'Philip,M,259\\n', 'Oliver,M,256\\n', 'Mack,M,250\\n', 'Horace,M,244\\n', 'Milton,M,242\\n', 'Guy,M,240\\n', 'Everett,M,237\\n', 'Jacob,M,233\\n', 'Melvin,M,231\\n', 'Charley,M,224\\n', 'Allen,M,223\\n', 'Alvin,M,223\\n', 'Earnest,M,223\\n', 'Ira,M,218\\n', 'Sidney,M,218\\n', 'Archie,M,216\\n', 'Otis,M,212\\n', 'Virgil,M,212\\n', 'Julius,M,206\\n', 'Jerry,M,205\\n', 'Percy,M,201\\n', 'Otto,M,199\\n', 'Isaac,M,198\\n', 'Bill,M,196\\n', 'Glenn,M,194\\n', 'Maurice,M,193\\n', 'Alex,M,192\\n', 'Dan,M,192\\n', 'Warren,M,191\\n', 'Hubert,M,189\\n', 'Marion,M,189\\n', 'Lonnie,M,186\\n', 'Nathan,M,186\\n', 'Stephen,M,181\\n', 'Wesley,M,181\\n', 'Vincent,M,177\\n', 'Marvin,M,176\\n', 'Manuel,M,174\\n', 'Willard,M,172\\n', 'Vernon,M,170\\n', 'Willis,M,169\\n', 'Dave,M,166\\n', 'Morris,M,162\\n', 'Jose,M,161\\n', 'Wallace,M,161\\n', 'Wilbur,M,161\\n', 'Gerald,M,157\\n', 'Rufus,M,157\\n', 'Bennie,M,153\\n', 'Bert,M,153\\n', 'August,M,148\\n', 'Rudolph,M,147\\n', 'Gilbert,M,145\\n', 'Curtis,M,144\\n', 'Perry,M,142\\n', 'Max,M,141\\n', 'Steve,M,139\\n', 'Franklin,M,137\\n', 'Gordon,M,137\\n', 'Mark,M,137\\n', 'Nelson,M,135\\n', 'Glen,M,134\\n', 'Mckinley,M,133\\n', 'Roland,M,133\\n', 'Dennis,M,132\\n', 'Mike,M,132\\n', 'Sylvester,M,131\\n', 'Johnie,M,130\\n', 'Matthew,M,130\\n', 'Calvin,M,128\\n', 'Jess,M,128\\n', 'Emil,M,127\\n', 'Phillip,M,127\\n', 'Marshall,M,126\\n', 'Amos,M,125\\n', 'Elbert,M,125\\n', 'Felix,M,123\\n', 'Arnold,M,122\\n', 'Jake,M,121\\n', 'Ellis,M,120\\n', 'Gus,M,120\\n', 'Emmett,M,119\\n', 'Clayton,M,118\\n', 'Irvin,M,118\\n', 'Jimmie,M,118\\n', 'Nathaniel,M,118\\n', 'Adolph,M,117\\n', 'Moses,M,117\\n', 'Alonzo,M,116\\n', 'Cornelius,M,116\\n', 'Pete,M,116\\n', 'Irving,M,115\\n', 'Orville,M,112\\n', 'Adam,M,111\\n', 'Ollie,M,109\\n', 'Claud,M,107\\n', 'Clifton,M,107\\n', 'Douglas,M,107\\n', 'Jay,M,107\\n', 'Aaron,M,104\\n', 'Tony,M,101\\n', 'Abraham,M,100\\n', 'Bob,M,98\\n', 'Jasper,M,97\\n', 'Roscoe,M,96\\n', 'Levi,M,95\\n', 'Nicholas,M,95\\n', 'Sherman,M,95\\n', 'Edmund,M,94\\n', 'Owen,M,93\\n', 'Noah,M,92\\n', 'Clinton,M,91\\n', 'Ivan,M,90\\n', 'Monroe,M,89\\n', 'Wilson,M,89\\n', 'Ervin,M,88\\n', 'Bruce,M,86\\n', 'Elijah,M,86\\n', 'Reuben,M,86\\n', 'Jerome,M,85\\n', 'Wayne,M,85\\n', 'Juan,M,84\\n', 'Barney,M,83\\n', 'Ross,M,83\\n', 'Grant,M,82\\n', 'Don,M,81\\n', 'Laurence,M,81\\n', 'Roger,M,81\\n', 'Tommie,M,81\\n', 'Wilfred,M,81\\n', 'Grady,M,79\\n', 'Harley,M,79\\n', 'Julian,M,79\\n', 'Preston,M,78\\n', 'Leland,M,76\\n', 'Timothy,M,76\\n', 'Clark,M,75\\n', 'Karl,M,75\\n', 'Mary,M,75\\n', 'Mose,M,75\\n', 'Ted,M,75\\n', 'Antonio,M,74\\n', 'Simon,M,74\\n', 'Alva,M,73\\n', 'Dock,M,73\\n', 'Cleveland,M,72\\n', 'Johnny,M,72\\n', 'Roosevelt,M,72\\n', 'Solomon,M,72\\n', 'Luke,M,70\\n', 'Carroll,M,69\\n', 'Harrison,M,69\\n', 'Jeff,M,69\\n', 'Troy,M,69\\n', 'Millard,M,68\\n', 'Silas,M,68\\n', 'Fredrick,M,67\\n', 'Austin,M,66\\n', 'Forrest,M,66\\n', 'Ike,M,65\\n', 'Allan,M,64\\n', 'Loyd,M,64\\n', 'Freddie,M,63\\n', 'Myron,M,63\\n', 'Wilbert,M,63\\n', 'Aubrey,M,62\\n', 'Boyd,M,62\\n', 'Larry,M,62\\n', 'Byron,M,61\\n', 'Edd,M,61\\n', 'Louie,M,61\\n', 'Wiley,M,61\\n', 'Jackson,M,60\\n', 'Dwight,M,59\\n', 'Rex,M,59\\n', 'Anton,M,58\\n', 'Neal,M,58\\n', 'Hiram,M,57\\n', 'Mathew,M,57\\n', 'Van,M,57\\n', 'Abe,M,56\\n', 'Anderson,M,56\\n', 'Wade,M,56\\n', 'Bryan,M,55\\n', 'Christopher,M,55\\n', 'Malcolm,M,55\\n', 'Miles,M,55\\n', 'Andy,M,54\\n', 'Dale,M,54\\n', 'Merle,M,54\\n', 'Fletcher,M,53\\n', 'Forest,M,53\\n', 'Riley,M,53\\n', 'Emory,M,52\\n', 'Grover,M,52\\n', 'Mitchell,M,52\\n', 'Elwood,M,51\\n', 'Major,M,51\\n', 'Neil,M,50\\n', 'Newton,M,50\\n', 'Pat,M,50\\n', 'Randolph,M,50\\n', 'Ruben,M,50\\n', 'Jesus,M,49\\n', 'Lyle,M,49\\n', 'Murray,M,49\\n', 'Nick,M,49\\n', 'Clement,M,48\\n', 'Gene,M,48\\n', 'Marcus,M,48\\n', 'Taylor,M,48\\n', 'Ambrose,M,47\\n', 'Edmond,M,47\\n', 'Booker,M,46\\n', 'Dean,M,46\\n', 'Earle,M,46\\n', 'Ned,M,46\\n', 'Russel,M,46\\n', 'Augustus,M,45\\n', 'Chris,M,45\\n', 'Columbus,M,45\\n', 'Dick,M,45\\n', 'Eli,M,45\\n', 'Emanuel,M,45\\n', 'Ramon,M,45\\n', 'Delbert,M,44\\n', 'Freeman,M,44\\n', 'Isiah,M,44\\n', 'Loren,M,44\\n', 'Pedro,M,44\\n', 'Spencer,M,44\\n', 'Alton,M,43\\n', 'Erwin,M,43\\n', 'Jeremiah,M,43\\n', 'Ward,M,43\\n', 'Wilmer,M,43\\n', 'Emery,M,42\\n', 'Ezra,M,42\\n', 'Jimmy,M,42\\n', 'Lorenzo,M,42\\n', 'Ora,M,42\\n', 'Steven,M,42\\n', 'Tommy,M,42\\n', 'Clay,M,41\\n', 'Conrad,M,41\\n', 'Cyril,M,41\\n', 'Ferdinand,M,41\\n', 'Lynn,M,41\\n', 'Pearl,M,41\\n', 'Bud,M,40\\n', 'Dallas,M,40\\n', 'Elmo,M,40\\n', 'Francisco,M,40\\n', 'Lucius,M,40\\n', 'Ronald,M,40\\n', 'Stewart,M,40\\n', 'Clair,M,39\\n', 'Elton,M,39\\n', 'Lyman,M,39\\n', 'Scott,M,39\\n', 'Burton,M,38\\n', 'Carlton,M,38\\n', 'Sterling,M,38\\n', 'Al,M,37\\n', 'Aloysius,M,37\\n', 'Basil,M,37\\n', 'Carlos,M,37\\n', 'Dewitt,M,37\\n', 'Elisha,M,37\\n', 'Herschel,M,37\\n', 'Lemuel,M,37\\n', 'Billy,M,36\\n', 'Cyrus,M,36\\n', 'Enoch,M,36\\n', 'Garland,M,36\\n', 'Hobert,M,36\\n', 'Johnson,M,36\\n', 'Joshua,M,36\\n', 'Noble,M,36\\n', 'Orval,M,36\\n', 'Vern,M,36\\n', 'Alfonso,M,35\\n', 'Alphonso,M,35\\n', 'Christian,M,35\\n', 'Dee,M,35\\n', 'Hollis,M,35\\n', 'Joel,M,35\\n', 'Lowell,M,35\\n', 'Emerson,M,34\\n', 'Lon,M,34\\n', 'Ulysses,M,34\\n', 'Dudley,M,33\\n', 'Elliott,M,33\\n', 'General,M,33\\n', 'Harris,M,33\\n', 'Houston,M,33\\n', 'Kelly,M,33\\n', 'King,M,33\\n', 'Lacy,M,33\\n', 'Buck,M,32\\n', 'Garfield,M,32\\n', 'Irwin,M,32\\n', 'Isaiah,M,32\\n', 'Junius,M,32\\n', 'Mason,M,32\\n', 'Napoleon,M,32\\n', 'Sammie,M,32\\n', 'Shirley,M,32\\n', 'Benny,M,31\\n', 'Carter,M,31\\n', 'Cleo,M,31\\n', 'Elmore,M,31\\n', 'Emile,M,31\\n', 'Jennings,M,31\\n', 'Jonas,M,31\\n', 'Matt,M,31\\n', 'Morgan,M,31\\n', 'Raleigh,M,31\\n', 'Wilber,M,31\\n', 'Arther,M,30\\n', 'Asa,M,30\\n', 'Clarance,M,30\\n', 'Fay,M,30\\n', 'Gustave,M,30\\n', 'Wendell,M,30\\n', 'Early,M,29\\n', 'Foster,M,29\\n', 'Garrett,M,29\\n', 'Odell,M,29\\n', 'Zack,M,29\\n', 'Clem,M,28\\n', 'Green,M,28\\n', 'Haywood,M,28\\n', 'Odis,M,28\\n', 'Sol,M,28\\n', 'Washington,M,28\\n', 'Adrian,M,27\\n', 'Alan,M,27\\n', 'Allie,M,27\\n', 'Alphonse,M,27\\n', 'Angelo,M,27\\n', 'Coy,M,27\\n', 'Ellsworth,M,27\\n', 'Emmet,M,27\\n', 'Hobart,M,27\\n', 'Judge,M,27\\n', 'Reginald,M,27\\n', 'Rupert,M,27\\n', 'Seth,M,27\\n', 'Travis,M,27\\n', 'Walker,M,27\\n', 'Winfield,M,27\\n', 'Bruno,M,26\\n', 'Carey,M,26\\n', 'Chas,M,26\\n', 'Coleman,M,26\\n', 'Hardy,M,26\\n', 'Lionel,M,26\\n', 'Lucious,M,26\\n', 'Maynard,M,26\\n', 'Smith,M,26\\n', 'Anna,M,25\\n', 'Buster,M,25\\n', 'Dominick,M,25\\n', 'Dorsey,M,25\\n', 'Hal,M,25\\n', 'Ivory,M,25\\n', 'Josh,M,25\\n', 'Judson,M,25\\n', 'Lige,M,25\\n', 'Olin,M,25\\n', 'Porter,M,25\\n', 'Royal,M,25\\n', 'Sim,M,25\\n', 'Truman,M,25\\n', 'Billie,M,24\\n', 'Bryant,M,24\\n', 'Elvin,M,24\\n', 'Evan,M,24\\n', 'Ford,M,24\\n', 'Isadore,M,24\\n', 'Jefferson,M,24\\n', 'Wilford,M,24\\n', 'Benjiman,M,23\\n', 'Buford,M,23\\n', 'Crawford,M,23\\n', 'Elias,M,23\\n', 'Emmitt,M,23\\n', 'Fritz,M,23\\n', 'Harmon,M,23\\n', 'Hugo,M,23\\n', 'Merrill,M,23\\n', 'Rubin,M,23\\n', 'Saul,M,23\\n', 'Webster,M,23\\n', 'Wilburn,M,23\\n', 'Alford,M,22\\n', 'Berry,M,22\\n', 'Bertha,M,22\\n', 'Chauncey,M,22\\n', 'Clint,M,22\\n', 'Florence,M,22\\n', 'Furman,M,22\\n', 'Henery,M,22\\n', 'Hyman,M,22\\n', 'Jean,M,22\\n', 'Jewel,M,22\\n', 'Logan,M,22\\n', 'Lonzo,M,22\\n', 'Maxwell,M,22\\n', 'Milford,M,22\\n', 'Milo,M,22\\n', 'Oren,M,22\\n', 'Pablo,M,22\\n', 'Phil,M,22\\n', 'Pink,M,22\\n', 'Prince,M,22\\n', 'Ruby,M,22\\n', 'Salvatore,M,22\\n', 'Sandy,M,22\\n', 'Son,M,22\\n', 'Stuart,M,22\\n', 'Tim,M,22\\n', 'Waldo,M,22\\n', 'Abner,M,21\\n', 'Emma,M,21\\n', 'Eric,M,21\\n', 'Granville,M,21\\n', 'Lucian,M,21\\n', 'Luis,M,21\\n', 'Murphy,M,21\\n', 'Norbert,M,21\\n', 'Omer,M,21\\n', 'Otha,M,21\\n', 'Otho,M,21\\n', 'Palmer,M,21\\n', 'Rodney,M,21\\n', 'Sanford,M,21\\n', 'Terry,M,21\\n', 'Thurman,M,21\\n', 'Bertram,M,20\\n', 'Connie,M,20\\n', 'Davis,M,20\\n', 'Eldon,M,20\\n', 'Elzie,M,20\\n', 'Ethel,M,20\\n', 'Hallie,M,20\\n', 'Henderson,M,20\\n', 'Hezekiah,M,20\\n', 'Israel,M,20\\n', 'Lenard,M,20\\n', 'Lincoln,M,20\\n', 'Lonie,M,20\\n', 'Micheal,M,20\\n', 'Pasquale,M,20\\n', 'Roman,M,20\\n', 'Rosevelt,M,20\\n', 'Sampson,M,20\\n', 'Shelby,M,20\\n', 'Warner,M,20\\n', 'Wm,M,20\\n', 'Adolphus,M,19\\n', 'Annie,M,19\\n', 'Bailey,M,19\\n', 'Bernie,M,19\\n', 'Bonnie,M,19\\n', 'Dana,M,19\\n', 'Elie,M,19\\n', 'Ezekiel,M,19\\n', 'Frances,M,19\\n', 'Gabriel,M,19\\n', 'Gustav,M,19\\n', 'Hamilton,M,19\\n', 'Harlan,M,19\\n', 'Hector,M,19\\n', 'Ivy,M,19\\n', 'Lambert,M,19\\n', 'Lindsey,M,19\\n', 'Mervin,M,19\\n', 'Meyer,M,19\\n', 'Toney,M,19\\n', 'Verne,M,19\\n', 'Vernie,M,19\\n', 'Wash,M,19\\n', 'Abram,M,18\\n', 'Admiral,M,18\\n', 'Arch,M,18\\n', 'Art,M,18\\n', 'Bishop,M,18\\n', 'Boyce,M,18\\n', 'Burl,M,18\\n', 'Burt,M,18\\n', 'Cicero,M,18\\n', 'Doc,M,18\\n', 'Ennis,M,18\\n', 'Guss,M,18\\n', 'Hans,M,18\\n', 'Helen,M,18\\n', 'Hosea,M,18\\n', 'Joesph,M,18\\n', 'Justin,M,18\\n', 'Nat,M,18\\n', 'Noel,M,18\\n', 'Norris,M,18\\n', 'Odie,M,18\\n', 'Rolland,M,18\\n', 'Tillman,M,18\\n', 'Turner,M,18\\n', 'Vivian,M,18\\n', 'Albin,M,17\\n', 'Artie,M,17\\n', 'Cliff,M,17\\n', 'Dillard,M,17\\n', 'Duncan,M,17\\n', 'Eldridge,M,17\\n', 'Kelley,M,17\\n', 'Lafayette,M,17\\n', 'Lawson,M,17\\n', 'Levy,M,17\\n', 'Linwood,M,17\\n', 'Madison,M,17\\n', 'Mannie,M,17\\n', 'Marie,M,17\\n', 'Miguel,M,17\\n', 'Ole,M,17\\n', 'Parker,M,17\\n', 'Randall,M,17\\n', 'Thaddeus,M,17\\n', 'Wylie,M,17\\n', 'Alvie,M,16\\n', 'Arlie,M,16\\n', 'Armand,M,16\\n', 'Aron,M,16\\n', 'Bennett,M,16\\n', 'Carson,M,16\\n', 'Cleve,M,16\\n', 'Collins,M,16\\n', 'Dalton,M,16\\n', 'Elizabeth,M,16\\n', 'Elza,M,16\\n', 'Everette,M,16\\n', 'Gaston,M,16\\n', 'Gladys,M,16\\n', 'Gust,M,16\\n', 'Keith,M,16\\n', 'Lamar,M,16\\n', 'Leander,M,16\\n', 'Margaret,M,16\\n', 'Nolan,M,16\\n', 'Quincy,M,16\\n', 'Rowland,M,16\\n', 'Ruth,M,16\\n', 'Teddy,M,16\\n', 'Tomas,M,16\\n', 'Unknown,M,16\\n', 'Abel,M,15\\n', 'Alec,M,15\\n', 'Bradley,M,15\\n', 'Cletus,M,15\\n', 'Doyle,M,15\\n', 'Elsie,M,15\\n', 'Emilio,M,15\\n', 'Fate,M,15\\n', 'Giles,M,15\\n', 'Graham,M,15\\n', 'Hayes,M,15\\n', 'Hazel,M,15\\n', 'Hermon,M,15\\n', 'Isidore,M,15\\n', 'Jason,M,15\\n', 'Jewell,M,15\\n', 'Jonnie,M,15\\n', 'Junior,M,15\\n', 'Lindsay,M,15\\n', 'Louise,M,15\\n', 'Loy,M,15\\n', 'Obie,M,15\\n', 'Oral,M,15\\n', 'Orlando,M,15\\n', 'Ossie,M,15\\n', 'Pierce,M,15\\n', 'Richmond,M,15\\n', 'Rollie,M,15\\n', 'Valentine,M,15\\n', 'Vance,M,15\\n', 'Williams,M,15\\n', 'Angus,M,14\\n', 'Antoine,M,14\\n', 'Archibald,M,14\\n', 'Burley,M,14\\n', 'Casper,M,14\\n', 'Curley,M,14\\n', 'Dominic,M,14\\n', 'Felipe,M,14\\n', 'Howell,M,14\\n', 'Jule,M,14\\n', 'Lillie,M,14\\n', 'Miller,M,14\\n', 'Monte,M,14\\n', 'Olen,M,14\\n', 'Reed,M,14\\n', 'Thad,M,14\\n', 'Theo,M,14\\n', 'Walton,M,14\\n', 'Wyatt,M,14\\n', 'Alden,M,13\\n', 'Alma,M,13\\n', 'Benton,M,13\\n', 'Bradford,M,13\\n', 'Casey,M,13\\n', 'Denis,M,13\\n', 'Denver,M,13\\n', 'Edna,M,13\\n', 'Effie,M,13\\n', 'Eunice,M,13\\n', 'Golden,M,13\\n', 'Hamp,M,13\\n', 'Harland,M,13\\n', 'Hershel,M,13\\n', 'Hobson,M,13\\n', 'Ida,M,13\\n', 'Jules,M,13\\n', 'Kirby,M,13\\n', 'Less,M,13\\n', 'Lou,M,13\\n', 'Lucien,M,13\\n', 'Mildred,M,13\\n', 'Morton,M,13\\n', 'Myles,M,13\\n', 'Price,M,13\\n', 'Roderick,M,13\\n', 'Rollin,M,13\\n', 'Rudy,M,13\\n', 'Sheldon,M,13\\n', 'Sonny,M,13\\n', 'Sydney,M,13\\n', 'Talmadge,M,13\\n', 'Theadore,M,13\\n', 'Tracy,M,13\\n', 'Vester,M,13\\n', 'Watson,M,13\\n', 'Waverly,M,13\\n', 'Wayman,M,13\\n', 'Weldon,M,13\\n', 'West,M,13\\n', 'Westley,M,13\\n', 'Winfred,M,13\\n', 'Winston,M,13\\n', 'Worth,M,13\\n', 'Alberto,M,12\\n', 'Ammon,M,12\\n', 'Antone,M,12\\n', 'Augustine,M,12\\n', 'Avery,M,12\\n', 'Beatrice,M,12\\n', 'Brooks,M,12\\n', 'Butler,M,12\\n', 'Carleton,M,12\\n', 'Cary,M,12\\n', 'Clara,M,12\\n', 'Ella,M,12\\n', 'Emmit,M,12\\n', 'Ernie,M,12\\n', 'Evans,M,12\\n', 'Fernando,M,12\\n', 'Gregory,M,12\\n', 'Hollie,M,12\\n', 'Hunter,M,12\\n', 'Junious,M,12\\n', 'Mac,M,12\\n', 'Melton,M,12\\n', 'Minnie,M,12\\n', 'Murry,M,12\\n', 'Nellie,M,12\\n', 'Ocie,M,12\\n', 'Oran,M,12\\n', 'Orie,M,12\\n', 'Orin,M,12\\n', 'Osie,M,12\\n', 'Patsy,M,12\\n', 'Rafael,M,12\\n', 'Ransom,M,12\\n', 'Raymon,M,12\\n', 'Rocco,M,12\\n', 'Rube,M,12\\n', 'Santiago,M,12\\n', 'Sylvan,M,12\\n', 'Vaughn,M,12\\n', 'Webb,M,12\\n', 'Wheeler,M,12\\n', 'Wilton,M,12\\n', 'Addison,M,11\\n', 'Alfredo,M,11\\n', 'Auther,M,11\\n', 'Axel,M,11\\n', 'Benedict,M,11\\n', 'Bessie,M,11\\n', 'Brady,M,11\\n', 'Buddie,M,11\\n', 'Burnett,M,11\\n', 'Caleb,M,11\\n', 'Christ,M,11\\n', 'Conley,M,11\\n', 'Damon,M,11\\n', 'Duke,M,11\\n', 'Earlie,M,11\\n', 'Eduardo,M,11\\n', 'Elder,M,11\\n', 'Ellie,M,11\\n', 'Ewell,M,11\\n', 'Farris,M,11\\n', 'Geo,M,11\\n', 'Gerard,M,11\\n', 'Gideon,M,11\\n', 'Grace,M,11\\n', 'Gregorio,M,11\\n', 'Guadalupe,M,11\\n', 'Hampton,M,11\\n', 'Hoyt,M,11\\n', 'Ignatius,M,11\\n', 'Isom,M,11\\n', 'Issac,M,11\\n', 'Jodie,M,11\\n', 'Jonah,M,11\\n', 'Jonathan,M,11\\n', 'Jordan,M,11\\n', 'Laurie,M,11\\n', 'Laverne,M,11\\n', 'Leeroy,M,11\\n', 'Lemmie,M,11\\n', 'Lillian,M,11\\n', 'Marcellus,M,11\\n', 'Marlin,M,11\\n', 'Pierre,M,11\\n', 'Rose,M,11\\n', 'Royce,M,11\\n', 'Stanford,M,11\\n', 'Thornton,M,11\\n', 'Thurston,M,11\\n', 'Tobe,M,11\\n', 'Tyler,M,11\\n', 'Verner,M,11\\n', 'Acie,M,10\\n', 'Addie,M,10\\n', 'Alvah,M,10\\n', 'Barry,M,10\\n', 'Bartley,M,10\\n', 'Barton,M,10\\n', 'Baxter,M,10\\n', 'Bee,M,10\\n', 'Benito,M,10\\n', 'Bernice,M,10\\n', 'Blair,M,10\\n', 'Buddy,M,10\\n', 'Cal,M,10\\n', 'Carmen,M,10\\n', 'Carmine,M,10\\n', 'Clare,M,10\\n', 'Claudie,M,10\\n', 'Collis,M,10\\n', 'Courtney,M,10\\n', 'Dell,M,10\\n', 'Delmar,M,10\\n', 'Eliga,M,10\\n', 'Eligah,M,10\\n', 'Elwin,M,10\\n', 'Estell,M,10\\n', 'Eston,M,10\\n', 'Foy,M,10\\n', 'Frederic,M,10\\n', 'French,M,10\\n', 'Gale,M,10\\n', 'Garnett,M,10\\n', 'Godfrey,M,10\\n', 'Goebel,M,10\\n', 'Gray,M,10\\n', 'Harlow,M,10\\n', 'Hayden,M,10\\n', 'Helmer,M,10\\n', 'Hilliard,M,10\\n', 'Joy,M,10\\n', 'Julious,M,10\\n', 'Lemon,M,10\\n', 'Len,M,10\\n', 'Leopold,M,10\\n', 'Lesley,M,10\\n', 'Lois,M,10\\n', 'Loran,M,10\\n', 'Ludwig,M,10\\n', 'Luster,M,10\\n', 'Mae,M,10\\n', 'Melville,M,10\\n', 'Moody,M,10\\n', 'Norval,M,10\\n', 'Omar,M,10\\n', 'Orrin,M,10\\n', 'Pleas,M,10\\n', 'Reese,M,10\\n', 'Rene,M,10\\n', 'Rolla,M,10\\n', 'Rossie,M,10\\n', 'Sanders,M,10\\n', 'Seward,M,10\\n', 'Seymour,M,10\\n', 'Sullivan,M,10\\n', 'Tallie,M,10\\n', 'Urban,M,10\\n', 'Wong,M,10\\n', 'Alfonzo,M,9\\n', 'Allison,M,9\\n', 'Alois,M,9\\n', 'Alvis,M,9\\n', 'Arlo,M,9\\n', 'Artis,M,9\\n', 'Arvid,M,9\\n', 'Barnie,M,9\\n', 'Bart,M,9\\n', 'Brown,M,9\\n', 'Callie,M,9\\n', 'Cameron,M,9\\n', 'Casimer,M,9\\n', 'Cloyd,M,9\\n', 'Collin,M,9\\n', 'Colonel,M,9\\n', 'Craig,M,9\\n', 'Darrell,M,9\\n', 'Delmer,M,9\\n', 'Eddy,M,9\\n', 'Edith,M,9\\n', 'Elige,M,9\\n', 'Elliot,M,9\\n', 'Enos,M,9\\n', 'Enrique,M,9\\n', 'Erich,M,9\\n', 'Ernst,M,9\\n', 'Evert,M,9\\n', 'Fabian,M,9\\n', 'Ferris,M,9\\n', 'Fitzhugh,M,9\\n', 'Gail,M,9\\n', 'Gary,M,9\\n', 'Gorge,M,9\\n', 'Harvie,M,9\\n', 'Hester,M,9\\n', 'Hosie,M,9\\n', 'Hudson,M,9\\n', 'Irene,M,9\\n', 'Jennie,M,9\\n', 'June,M,9\\n', 'Lauren,M,9\\n', 'Lupe,M,9\\n', 'Martha,M,9\\n', 'Mathias,M,9\\n', 'Mearl,M,9\\n', 'Milburn,M,9\\n', 'Newell,M,9\\n', 'Newt,M,9\\n', 'Nora,M,9\\n', 'Oswald,M,9\\n', 'Ozie,M,9\\n', 'Paris,M,9\\n', 'Pinkney,M,9\\n', 'Pleasant,M,9\\n', 'Rush,M,9\\n', 'Salvador,M,9\\n', 'Santos,M,9\\n', 'Schuyler,M,9\\n', 'Shedrick,M,9\\n', 'Shelley,M,9\\n', 'Shellie,M,9\\n', 'Spurgeon,M,9\\n', 'Wellington,M,9\\n', 'Wilfrid,M,9\\n', 'Zollie,M,9\\n', 'Ace,M,8\\n', 'Adolf,M,8\\n', 'Agnes,M,8\\n', 'Alf,M,8\\n', 'Alice,M,8\\n', 'Almon,M,8\\n', 'Arley,M,8\\n', 'Arturo,M,8\\n', 'Arvel,M,8\\n', 'Beverly,M,8\\n', 'Brice,M,8\\n', 'Byrd,M,8\\n', 'Ceasar,M,8\\n', 'Cora,M,8\\n', 'Doctor,M,8\\n', 'Donovan,M,8\\n', 'Dorothy,M,8\\n', 'Drew,M,8\\n', 'Elden,M,8\\n', 'Elvis,M,8\\n', 'Ephraim,M,8\\n', 'Essie,M,8\\n', 'Eva,M,8\\n', 'Felton,M,8\\n', 'Finley,M,8\\n', 'Fleming,M,8\\n', 'Gaylord,M,8\\n', 'Gerhard,M,8\\n', 'Gertrude,M,8\\n', 'Heber,M,8\\n', 'Hillard,M,8\\n', 'Holly,M,8\\n', 'Hughie,M,8\\n', 'Huston,M,8\\n', 'Iva,M,8\\n', 'Ivey,M,8\\n', 'Jacques,M,8\\n', 'Jarvis,M,8\\n', 'Knox,M,8\\n', 'Lance,M,8\\n', 'Lawerence,M,8\\n', 'Lea,M,8\\n', 'Levie,M,8\\n', 'Lonzie,M,8\\n', 'Lucille,M,8\\n', 'Lum,M,8\\n', 'Mabel,M,8\\n', 'Maceo,M,8\\n', 'Manley,M,8\\n', 'Marian,M,8\\n', 'Mariano,M,8\\n', 'Merlin,M,8\\n', 'Minor,M,8\\n', 'Nels,M,8\\n', 'Norton,M,8\\n', 'Norwood,M,8\\n', 'Olaf,M,8\\n', 'Olie,M,8\\n', 'Oneal,M,8\\n', 'Orange,M,8\\n', 'Ottis,M,8\\n', 'Owens,M,8\\n', 'Park,M,8\\n', 'Raphael,M,8\\n', 'Rayfield,M,8\\n', 'Reid,M,8\\n', 'Rich,M,8\\n', 'Rogers,M,8\\n', 'Romeo,M,8\\n', 'Selmer,M,8\\n', 'Shafter,M,8\\n', 'Shelly,M,8\\n', 'Sinclair,M,8\\n', 'Solon,M,8\\n', 'Stonewall,M,8\\n', 'Terrell,M,8\\n', 'Theron,M,8\\n', 'Volney,M,8\\n', 'Woodrow,M,8\\n', 'Yancy,M,8\\n', 'Young,M,8\\n', 'Zeb,M,8\\n', 'Adelbert,M,7\\n', 'Ananias,M,7\\n', 'Arlington,M,7\\n', 'Arron,M,7\\n', 'Author,M,7\\n', 'Authur,M,7\\n', 'Bayard,M,7\\n', 'Belford,M,7\\n', 'Benjaman,M,7\\n', 'Bertrand,M,7\\n', 'Beulah,M,7\\n', 'Bobby,M,7\\n', 'Caesar,M,7\\n', 'Casimir,M,7\\n', 'Cephus,M,7\\n', 'Christy,M,7\\n', 'Claire,M,7\\n', 'Clemon,M,7\\n', 'Cordie,M,7\\n', 'Danny,M,7\\n', 'Darrel,M,7\\n', 'Dayton,M,7\\n', 'Denny,M,7\\n', 'Denzil,M,7\\n', 'Dessie,M,7\\n', 'Donnie,M,7\\n', 'Eligha,M,7\\n', 'Elihu,M,7\\n', 'Ellery,M,7\\n', 'Ely,M,7\\n', 'Emit,M,7\\n', 'Esau,M,7\\n', 'Ester,M,7\\n', 'Evelyn,M,7\\n', 'Ewald,M,7\\n', 'Ezell,M,7\\n', 'Frazier,M,7\\n', 'Fredie,M,7\\n', 'Gaines,M,7\\n', 'Galen,M,7\\n', 'Garnet,M,7\\n', 'Gayle,M,7\\n', 'Georgia,M,7\\n', 'Griffin,M,7\\n', 'Gussie,M,7\\n', 'Harper,M,7\\n', 'Hattie,M,7\\n', 'Hayward,M,7\\n', 'Hebert,M,7\\n', 'Heyward,M,7\\n', 'Hilbert,M,7\\n', 'Hilton,M,7\\n', 'Hoke,M,7\\n', 'Hosey,M,7\\n', 'Humbert,M,7\\n', 'Ignacio,M,7\\n', 'Isreal,M,7\\n', 'Jethro,M,7\\n', 'Jhon,M,7\\n', 'Johny,M,7\\n', 'Josiah,M,7\\n', 'Kay,M,7\\n', 'Ken,M,7\\n', 'Kyle,M,7\\n', 'Landon,M,7\\n', 'Laura,M,7\\n', 'Lawton,M,7\\n', 'Lawyer,M,7\\n', 'Lazarus,M,7\\n', 'Lew,M,7\\n', 'Librado,M,7\\n', 'Lim,M,7\\n', 'Linnie,M,7\\n', 'Lorin,M,7\\n', 'Love,M,7\\n', 'Lovell,M,7\\n', 'Lowry,M,7\\n', 'Loyal,M,7\\n', 'Luciano,M,7\\n', 'Mace,M,7\\n', 'Manny,M,7\\n', 'Mathis,M,7\\n', 'Maxie,M,7\\n', 'Merritt,M,7\\n', 'Nickolas,M,7\\n', 'Octave,M,7\\n', 'Olive,M,7\\n', 'Orion,M,7\\n', 'Ozzie,M,7\\n', 'Pascal,M,7\\n', 'Pearlie,M,7\\n', 'Percival,M,7\\n', 'Phill,M,7\\n', 'Prentice,M,7\\n', 'Robinson,M,7\\n', 'Roe,M,7\\n', 'Roma,M,7\\n', 'Ruel,M,7\\n', 'Sammy,M,7\\n', 'Shelton,M,7\\n', 'Thos,M,7\\n', 'Todd,M,7\\n', 'Tomie,M,7\\n', 'Trinidad,M,7\\n', 'Val,M,7\\n', 'Virgle,M,7\\n', 'Waymon,M,7\\n', 'Whitney,M,7\\n', 'Willam,M,7\\n', 'Woody,M,7\\n', 'Wright,M,7\\n', 'Zenas,M,7\\n', 'Acy,M,6\\n', 'Adelard,M,6\\n', 'Alberta,M,6\\n', 'Alcide,M,6\\n', 'Alejandro,M,6\\n', 'Algie,M,6\\n', 'Alonza,M,6\\n', 'Alpha,M,6\\n', 'Angel,M,6\\n', 'Anson,M,6\\n', 'Antony,M,6\\n', 'Arvin,M,6\\n', 'Asberry,M,6\\n', 'Ashton,M,6\\n', 'Audie,M,6\\n', 'Augusta,M,6\\n', 'Azel,M,6\\n', 'Babe,M,6\\n', 'Bobbie,M,6\\n', 'Bonifacio,M,6\\n', 'Boss,M,6\\n', 'Burke,M,6\\n', 'Burr,M,6\\n', 'Carlo,M,6\\n', 'Carlyle,M,6\\n', 'Carol,M,6\\n', 'Carrie,M,6\\n', 'Cephas,M,6\\n', 'Charls,M,6\\n', 'Chin,M,6\\n', 'Clearence,M,6\\n', 'Clovis,M,6\\n', 'Cole,M,6\\n', 'Coley,M,6\\n', 'Comer,M,6\\n', 'Cooper,M,6\\n', 'Corbett,M,6\\n', 'Corwin,M,6\\n', 'Dempsey,M,6\\n', 'Dollie,M,6\\n', 'Dolphus,M,6\\n', 'Douglass,M,6\\n', 'Duane,M,6\\n', 'Ebbie,M,6\\n', 'Eben,M,6\\n', 'Edson,M,6\\n', 'Elroy,M,6\\n', 'Elsworth,M,6\\n', 'Emitt,M,6\\n', 'Erving,M,6\\n', 'Esker,M,6\\n', 'Esther,M,6\\n', 'Estill,M,6\\n', 'Eugenio,M,6\\n', 'Evertt,M,6\\n', 'Federico,M,6\\n', 'Ferdie,M,6\\n', 'Finis,M,6\\n', 'Fong,M,6\\n', 'Fulton,M,6\\n', 'Gardner,M,6\\n', 'Genie,M,6\\n', 'Governor,M,6\\n', 'Guillermo,M,6\\n', 'Hanson,M,6\\n', 'Hardie,M,6\\n', 'Hartley,M,6\\n', 'Harve,M,6\\n', 'Harvy,M,6\\n', 'Haskell,M,6\\n', 'Hazen,M,6\\n', 'Horatio,M,6\\n', 'Hurbert,M,6\\n', 'Hurley,M,6\\n', 'Iley,M,6\\n', 'Jamie,M,6\\n', 'Jeffie,M,6\\n', 'Jones,M,6\\n', 'Josef,M,6\\n', 'Josephine,M,6\\n', 'Julia,M,6\\n', 'Kermit,M,6\\n', 'Lacey,M,6\\n', 'Lavern,M,6\\n', 'Leamon,M,6\\n', 'Leighton,M,6\\n', 'Lem,M,6\\n', 'Lemar,M,6\\n', 'Lennie,M,6\\n', 'Letcher,M,6\\n', 'Lilburn,M,6\\n', 'Linus,M,6\\n', 'Loney,M,6\\n', 'Lonza,M,6\\n', 'Lorn,M,6\\n', 'Lue,M,6\\n', 'Lynwood,M,6\\n', 'Mahlon,M,6\\n', 'Mallie,M,6\\n', 'Manford,M,6\\n', 'Mat,M,6\\n', 'Mattie,M,6\\n', 'Meredith,M,6\\n', 'Merton,M,6\\n', 'Mills,M,6\\n', 'Mortimer,M,6\\n', 'Murl,M,6\\n', 'Murrell,M,6\\n', 'Nevin,M,6\\n', 'Oakley,M,6\\n', 'Oda,M,6\\n', 'Onie,M,6\\n', 'Onnie,M,6\\n', 'Orla,M,6\\n', 'Osborne,M,6\\n', 'Perley,M,6\\n', 'Raoul,M,6\\n', 'Rayford,M,6\\n', 'Reece,M,6\\n', 'Reinhold,M,6\\n', 'Rosario,M,6\\n', 'Samson,M,6\\n', 'Silvester,M,6\\n', 'Simmie,M,6\\n', 'Sims,M,6\\n', 'Stacy,M,6\\n', 'Stella,M,6\\n', 'Sumner,M,6\\n', 'Susie,M,6\\n', 'Sylvanus,M,6\\n', 'Toy,M,6\\n', 'Tully,M,6\\n', 'Vicente,M,6\\n', 'Vito,M,6\\n', 'Wardell,M,6\\n', 'Waymond,M,6\\n', 'Wells,M,6\\n', 'Welton,M,6\\n', 'Werner,M,6\\n', 'Wess,M,6\\n', 'Weston,M,6\\n', 'Willian,M,6\\n', 'Williard,M,6\\n', 'Winford,M,6\\n', 'Winslow,M,6\\n', 'Woodson,M,6\\n', 'Yee,M,6\\n', 'Zachary,M,6\\n', 'Abron,M,5\\n', 'Agustus,M,5\\n', 'Albertus,M,5\\n', 'Albino,M,5\\n', 'Alfons,M,5\\n', 'Algot,M,5\\n', 'Aloys,M,5\\n', 'Alphonsus,M,5\\n', 'Alto,M,5\\n', 'Andres,M,5\\n', 'Anne,M,5\\n', 'Ansel,M,5\\n', 'Arnett,M,5\\n', 'Asbury,M,5\\n', 'Ashley,M,5\\n', 'Augustin,M,5\\n', 'Baker,M,5\\n', 'Ballard,M,5\\n', 'Barnett,M,5\\n', 'Bartholomew,M,5\\n', 'Belton,M,5\\n', 'Benjamine,M,5\\n', 'Bernhard,M,5\\n', 'Bethel,M,5\\n', 'Blaine,M,5\\n', 'Blake,M,5\\n', 'Bluford,M,5\\n', 'Boy,M,5\\n', 'Braxton,M,5\\n', 'Broadus,M,5\\n', 'Bruster,M,5\\n', 'Brutus,M,5\\n', 'Bub,M,5\\n', 'Bubber,M,5\\n', 'Burney,M,5\\n', 'Cap,M,5\\n', 'Carlie,M,5\\n', 'Cass,M,5\\n', 'Catherine,M,5\\n', 'Champ,M,5\\n', 'Chandler,M,5\\n', 'Claudia,M,5\\n', 'Cleave,M,5\\n', 'Clemens,M,5\\n', 'Cline,M,5\\n', 'Clive,M,5\\n', 'Curry,M,5\\n', 'Darwin,M,5\\n', 'Dawson,M,5\\n', 'Dolph,M,5\\n', 'Donato,M,5\\n', 'Dora,M,5\\n', 'Doris,M,5\\n', 'Ebb,M,5\\n', 'Edger,M,5\\n', 'Edison,M,5\\n', 'Edmon,M,5\\n', 'Einar,M,5\\n', 'Elbridge,M,5\\n', 'Elex,M,5\\n', 'Elgin,M,5\\n', 'Elizah,M,5\\n', 'Ellwood,M,5\\n', 'Elva,M,5\\n', 'Elver,M,5\\n', 'Elvie,M,5\\n', 'Elzear,M,5\\n', 'Emmanuel,M,5\\n', 'Erastus,M,5\\n', 'Erskine,M,5\\n', 'Eustace,M,5\\n', 'Evie,M,5\\n', 'Ewing,M,5\\n', 'Fannie,M,5\\n', 'Fenton,M,5\\n', 'Ferd,M,5\\n', 'Fernand,M,5\\n', 'Festus,M,5\\n', 'Florencio,M,5\\n', 'Fordyce,M,5\\n', 'Gaither,M,5\\n', 'Garret,M,5\\n', 'Geoffrey,M,5\\n', 'Gifford,M,5\\n', 'Gillis,M,5\\n', 'Girard,M,5\\n', 'Glover,M,5\\n', 'Gobel,M,5\\n', 'Goble,M,5\\n', 'Goldie,M,5\\n', 'Halsey,M,5\\n', 'Henri,M,5\\n', 'Herald,M,5\\n', 'Herschell,M,5\\n', 'Hilario,M,5\\n', 'Hilmer,M,5\\n', 'Humphrey,M,5\\n', 'Isidor,M,5\\n', 'Ivo,M,5\\n', 'Joeseph,M,5\\n', 'Joyce,M,5\\n', 'Kennie,M,5\\n', 'Kent,M,5\\n', 'Kinnie,M,5\\n', 'Kirk,M,5\\n', 'Larue,M,5\\n', 'Lenord,M,5\\n', 'Leory,M,5\\n', 'Les,M,5\\n', 'Lewie,M,5\\n', 'Lillard,M,5\\n', 'Linzy,M,5\\n', 'London,M,5\\n', 'Lucy,M,5\\n', 'Lugene,M,5\\n', 'Luigi,M,5\\n', 'Maggie,M,5\\n', 'Malachi,M,5\\n', 'Man,M,5\\n', 'Manning,M,5\\n', 'Marcelino,M,5\\n', 'March,M,5\\n', 'Mario,M,5\\n', 'Maude,M,5\\n', 'May,M,5\\n', 'Mont,M,5\\n', 'Montie,M,5\\n', 'Monty,M,5\\n', 'Myrl,M,5\\n', 'Neely,M,5\\n', 'Nell,M,5\\n', 'Newman,M,5\\n', 'Nicolas,M,5\\n', 'Niles,M,5\\n', 'Nolen,M,5\\n', 'Okey,M,5\\n', 'Ola,M,5\\n', 'Orris,M,5\\n', 'Orvis,M,5\\n', 'Ott,M,5\\n', 'Ottie,M,5\\n', 'Overton,M,5\\n', 'Page,M,5\\n', 'Payne,M,5\\n', 'Pet,M,5\\n', 'Ples,M,5\\n', 'Prentiss,M,5\\n', 'Presley,M,5\\n', 'Purvis,M,5\\n', 'Quentin,M,5\\n', 'Rachel,M,5\\n', 'Radford,M,5\\n', 'Randle,M,5\\n', 'Refugio,M,5\\n', 'Regis,M,5\\n', 'Rexford,M,5\\n', 'Reyes,M,5\\n', 'Robt,M,5\\n', 'Roby,M,5\\n', 'Rodger,M,5\\n', 'Rome,M,5\\n', 'Rosa,M,5\\n', 'Rosendo,M,5\\n', 'Royden,M,5\\n', 'Sallie,M,5\\n', 'Samual,M,5\\n', 'Sarah,M,5\\n', 'Sid,M,5\\n', 'Sie,M,5\\n', 'Sigmund,M,5\\n', 'Smiley,M,5\\n', 'Stanislaus,M,5\\n', 'Steward,M,5\\n', 'Sunny,M,5\\n', 'Teddie,M,5\\n', 'Terrence,M,5\\n', 'Theresa,M,5\\n', 'Tip,M,5\\n', 'Tobias,M,5\\n', 'Toby,M,5\\n', 'Tolbert,M,5\\n', 'Tollie,M,5\\n', 'Vergil,M,5\\n', 'Vernard,M,5\\n', 'Versie,M,5\\n', 'Vincenzo,M,5\\n', 'Viola,M,5\\n', 'Virgie,M,5\\n', 'Vollie,M,5\\n', 'Weaver,M,5\\n', 'Wert,M,5\\n', 'Whit,M,5\\n', 'White,M,5\\n', 'Wilhelm,M,5\\n', 'Winifred,M,5\\n', 'Woodie,M,5\\n', 'Zeno,M,5\\n', 'Jeremy,M,100']\n"
     ]
    }
   ],
   "source": [
    "### f) Your code starts here\n",
    "def qualitative_summary(names: list, n: int):\n",
    "    get_names = lambda line: line.split(',')[0]\n",
    "    only_names = list(map(get_names, names))\n",
    "    return only_names[:n]\n",
    "\n",
    "### g) Your code starts here\n",
    "def quantitative_summary(names: list):\n",
    "    \n",
    "    # Split male and female entries\n",
    "    get_male = lambda line: line.split(',')[1] == 'M'\n",
    "    get_female = lambda line: line.split(',')[1] == 'F'\n",
    "    male_entries = list(filter(get_male, names))\n",
    "    female_entries = list(filter(get_female, names))\n",
    "\n",
    "    # Compute statistics for each group\n",
    "    get_names = lambda line: line.split(',')[0]\n",
    "\n",
    "\n",
    "\n",
    "quantitative_summary(names_1900)"
   ]
  },
  {
   "cell_type": "markdown",
   "metadata": {
    "id": "THvZdP7KiMpm"
   },
   "source": [
    "### h) try to put all the functions into a separate file called my_module.py and call them from there. Make sure you have my_module.py in the same folder as your notebook. You can import the module by using import my_module. You can call the functions by using my_module.my_function(). Try to do the following pipeline: read in all the data from 2000, print out the top 10 names and quantitatve summary.\n",
    "\n",
    "\n",
    "### i) Try comparing qualitatively and quantitatively the distribution of names across 10 years. What are the interesting changes/ commonalities?"
   ]
  },
  {
   "cell_type": "code",
   "execution_count": null,
   "metadata": {
    "id": "qG80QU0diMpm"
   },
   "outputs": [],
   "source": [
    "### h) Your code starts here\n",
    "\n",
    "### i) Your code starts here"
   ]
  },
  {
   "cell_type": "markdown",
   "metadata": {
    "id": "PgqxUn8oyrMh"
   },
   "source": [
    "Now create a new python file where you will write some code and some functions. Program a simple little app. When you run it, it should ask the user for their username. It should store this value and then ask them for a password and store that too. The program should create a text file if one doesn't exist yet and save these to that file in an organized way. From now on if someone runs the program, their usernames should be checked against the text file. If the username exists but the password is wrong, or vice-versa, your program should print a string telling them which was wrong and ask for it again.\n",
    "\n",
    "Try to use functions as often as you can to keep your code organized! Document your code!"
   ]
  },
  {
   "cell_type": "markdown",
   "metadata": {
    "id": "vnwyL7Puzz4M"
   },
   "source": [
    "Alright, if you completed that you are finally ready. Program tic-tac-toe! You can use print statements to display the board, or just print a description of it, or have no display of the game at all!\n",
    "\n",
    "In doing this exercise you will probably hit some annoying pain points where it might be really handy to be able define your own custom objects, which you will learn about tomorrow!"
   ]
  },
  {
   "cell_type": "code",
   "execution_count": null,
   "metadata": {
    "id": "ZvtvxTI10H4U"
   },
   "outputs": [],
   "source": []
  }
 ],
 "metadata": {
  "colab": {
   "collapsed_sections": [
    "iWT3xlIok70z",
    "aQNE9QEPpYHh",
    "5g8wL2aTwNDP"
   ],
   "provenance": [
    {
     "file_id": "1g61A6nktu0Hz8i9C-4hloTT4tZy8A4Pu",
     "timestamp": 1752179571261
    },
    {
     "file_id": "1TamVu6LC6TO6cNcowKt25CnAbdMbGicO",
     "timestamp": 1723044063983
    }
   ]
  },
  "kernelspec": {
   "display_name": "pni_bootcamp",
   "language": "python",
   "name": "python3"
  },
  "language_info": {
   "codemirror_mode": {
    "name": "ipython",
    "version": 3
   },
   "file_extension": ".py",
   "mimetype": "text/x-python",
   "name": "python",
   "nbconvert_exporter": "python",
   "pygments_lexer": "ipython3",
   "version": "3.12.5"
  }
 },
 "nbformat": 4,
 "nbformat_minor": 0
}

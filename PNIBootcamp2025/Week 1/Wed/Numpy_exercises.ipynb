{
 "cells": [
  {
   "cell_type": "markdown",
   "metadata": {
    "id": "d3mozpDv_vyv"
   },
   "source": [
    "# Exercises: NumPy\n",
    "The following exercises are designed to test your understanding of NumPy. You will be\n",
    "using a variety of NumPy functions and methods to answer the questions. The goal is to\n",
    "become familiar with the power of NumPy and how to use it effectively in your data\n",
    "science journey."
   ]
  },
  {
   "cell_type": "code",
   "execution_count": 1,
   "metadata": {
    "id": "dOcPwxO__vyv"
   },
   "outputs": [],
   "source": [
    "import numpy as np"
   ]
  },
  {
   "cell_type": "code",
   "execution_count": null,
   "metadata": {},
   "outputs": [],
   "source": [
    "np.linalg.cholesky"
   ]
  },
  {
   "cell_type": "markdown",
   "metadata": {
    "id": "KywKh0ru_vyv"
   },
   "source": [
    "For exercises 1-10, we will be working with a simple dataset representing the ratings of\n",
    "four different customers in response to five products on a scale of 1-10.\n",
    "\n",
    "- Customer 0's ratings: 4, 5, 3, 1, 2\n",
    "- Customer 1's ratings: 6, 7, 8, 7, 5\n",
    "- Customer 2's ratings: 8, 9, 10, 9, 8\n",
    "- Customer 3's ratings: 1, 3, 2, 1, 3"
   ]
  },
  {
   "cell_type": "markdown",
   "metadata": {
    "id": "WKN9d7fA_vyv"
   },
   "source": [
    "## Exercise 1\n",
    "Use the information above to create the \"ratings\" matrix."
   ]
  },
  {
   "cell_type": "code",
   "execution_count": 5,
   "metadata": {
    "id": "BFf-7Vm__vyv"
   },
   "outputs": [],
   "source": [
    "# TODO: Your code here!\n",
    "ratings = np.array([[4, 5, 3, 1, 2],\n",
    "                   [6, 7, 8, 7, 5],\n",
    "                   [8, 9, 10, 9, 8],\n",
    "                   [1, 3, 2, 1, 3]])"
   ]
  },
  {
   "cell_type": "markdown",
   "metadata": {
    "id": "vWmqa-ng_vyv"
   },
   "source": [
    "## Exercise 2\n",
    "- Find the size and shape of the 'ratings' matrix.\n",
    "- Print the data type of the 'ratings' matrix."
   ]
  },
  {
   "cell_type": "code",
   "execution_count": 7,
   "metadata": {
    "id": "cwm7ID4E_vyv"
   },
   "outputs": [
    {
     "name": "stdout",
     "output_type": "stream",
     "text": [
      "size: 20\n",
      "shape: (4, 5)\n",
      "datatype: int64\n"
     ]
    }
   ],
   "source": [
    "# TODO: Your code here!\n",
    "print(f'size: {ratings.size}')\n",
    "print(f'shape: {ratings.shape}')\n",
    "\n",
    "print(f'datatype: {ratings.dtype}')"
   ]
  },
  {
   "cell_type": "markdown",
   "metadata": {
    "id": "2v89bcwH_vyv"
   },
   "source": [
    "## Exercise 3\n",
    "- How did Customer 2 rate the 0th item?\n",
    "- Extract the ratings for the last product by all customers."
   ]
  },
  {
   "cell_type": "code",
   "execution_count": 9,
   "metadata": {
    "id": "VlJL-z_8_vyv"
   },
   "outputs": [
    {
     "name": "stdout",
     "output_type": "stream",
     "text": [
      "customer 2 rating for 0th item: 5\n",
      "last product ratings: [2 5 8 3]\n"
     ]
    }
   ],
   "source": [
    "# TODO: Your code here!\n",
    "customer_2_rating = ratings[1, -1]\n",
    "print(f'customer 2 rating for 0th item: {customer_2_rating}')\n",
    "print(f'last product ratings: {ratings[:, -1]}')"
   ]
  },
  {
   "cell_type": "markdown",
   "metadata": {
    "id": "8hEFl6ky_vyv"
   },
   "source": [
    "## Exercise 4\n",
    "- Calculate the average product rating across ALL customers and ALL products.\n",
    "- On average, how did Customer 1 rate the products?\n",
    "- What's the average product rating for the last item?"
   ]
  },
  {
   "cell_type": "code",
   "execution_count": 13,
   "metadata": {
    "id": "Ug7L36ha_vyv"
   },
   "outputs": [
    {
     "name": "stdout",
     "output_type": "stream",
     "text": [
      "avg: 5.1\n",
      "cust 1 avg: 3.0\n",
      "last prod avg: 4.5\n"
     ]
    }
   ],
   "source": [
    "# TODO: Your code here!\n",
    "print(f'avg: {ratings.mean()}')\n",
    "print(f'cust 1 avg: {ratings[0].mean()}')\n",
    "print(f'last prod avg: {ratings[:, -1].mean()}')"
   ]
  },
  {
   "cell_type": "markdown",
   "metadata": {
    "id": "WcFev8hc_vyv"
   },
   "source": [
    "## Exercise 5\n",
    "- Reshape 'ratings' to a column vector and call it 'col_vec' (don't change 'ratings').\n",
    "- Reshape 'ratings' to a row vector and call it 'row_vec' (don't change 'ratings')."
   ]
  },
  {
   "cell_type": "code",
   "execution_count": 15,
   "metadata": {
    "id": "ZEsoVFPx_vyv"
   },
   "outputs": [
    {
     "name": "stdout",
     "output_type": "stream",
     "text": [
      "(20, 1) (1, 20)\n"
     ]
    }
   ],
   "source": [
    "# TODO: Your code here!\n",
    "col_vec = ratings.reshape(4 * 5, 1)\n",
    "row_vec = ratings.reshape(1, 4 * 5)\n",
    "print(col_vec.shape, row_vec.shape)"
   ]
  },
  {
   "cell_type": "markdown",
   "metadata": {
    "id": "Bv544xas_vyv"
   },
   "source": [
    "## Exercise 6\n",
    "Find the median and standard deviation of 'ratings'."
   ]
  },
  {
   "cell_type": "code",
   "execution_count": 20,
   "metadata": {
    "id": "GoPP3cEp_vyv"
   },
   "outputs": [
    {
     "name": "stdout",
     "output_type": "stream",
     "text": [
      "ratings std: 2.930870177950569\n",
      "median: 5.0\n"
     ]
    }
   ],
   "source": [
    "# TODO: Your code here!\n",
    "std = ratings.std()\n",
    "print(f'ratings std: {std}')\n",
    "print(f'median: {np.median(ratings)}')"
   ]
  },
  {
   "cell_type": "markdown",
   "metadata": {
    "id": "OPCnE7ss_vyv"
   },
   "source": [
    "## Exercise 7\n",
    "Find the unique product ratings of Customer 2."
   ]
  },
  {
   "cell_type": "code",
   "execution_count": 21,
   "metadata": {
    "id": "1BbY_evX_vyv"
   },
   "outputs": [
    {
     "name": "stdout",
     "output_type": "stream",
     "text": [
      "[5 6 7 8]\n"
     ]
    }
   ],
   "source": [
    "# TODO: Your code here!\n",
    "print(np.unique(ratings[1]))"
   ]
  },
  {
   "cell_type": "markdown",
   "metadata": {
    "id": "nycs_LI__vyv"
   },
   "source": [
    "## Exercise 8\n",
    "Find the product ratings that Customer 0 and Customer 3 have in common."
   ]
  },
  {
   "cell_type": "code",
   "execution_count": 29,
   "metadata": {
    "id": "s5X3WMvQ_vyv"
   },
   "outputs": [
    {
     "name": "stdout",
     "output_type": "stream",
     "text": [
      "[False False False  True False]\n"
     ]
    }
   ],
   "source": [
    "# TODO: Your code here!\n",
    "print(ratings[0] == ratings[3])"
   ]
  },
  {
   "cell_type": "markdown",
   "metadata": {
    "id": "IMsfyI6E_vyv"
   },
   "source": [
    "## Exercise 9\n",
    "Make a new matrix called 'binary_mat' based on 'ratings'. If a number in 'ratings' is\n",
    "less than 6, set it equal to 0 in 'binary_mat', else, set it equal to 1 in 'binary_mat'."
   ]
  },
  {
   "cell_type": "code",
   "execution_count": 31,
   "metadata": {
    "id": "CpskgnDK_vyv"
   },
   "outputs": [
    {
     "data": {
      "text/plain": [
       "(array([[0, 0, 0, 0, 0],\n",
       "        [1, 1, 1, 1, 0],\n",
       "        [1, 1, 1, 1, 1],\n",
       "        [0, 0, 0, 0, 0]]),\n",
       " array([[ 4,  5,  3,  1,  2],\n",
       "        [ 6,  7,  8,  7,  5],\n",
       "        [ 8,  9, 10,  9,  8],\n",
       "        [ 1,  3,  2,  1,  3]]))"
      ]
     },
     "execution_count": 31,
     "metadata": {},
     "output_type": "execute_result"
    }
   ],
   "source": [
    "# TODO: Your code here!\n",
    "binary_mat = np.where(ratings < 6, 0, 1)\n",
    "binary_mat, ratings"
   ]
  },
  {
   "cell_type": "markdown",
   "metadata": {
    "id": "pwox9_HE_vyv"
   },
   "source": [
    "## Exercise 10\n",
    "- Which product has the highest average rating and which has the lowest?\n"
   ]
  },
  {
   "cell_type": "code",
   "execution_count": null,
   "metadata": {
    "id": "7pAVHSOh_vyv"
   },
   "outputs": [
    {
     "name": "stdout",
     "output_type": "stream",
     "text": [
      "Max prod: 1\n",
      "min prod: 3\n"
     ]
    }
   ],
   "source": [
    "# TODO: Your code here!\n",
    "avg_prod_ratings = ratings.mean(0)\n",
    "print(f'Max prod: {avg_prod_ratings.argmax()}')\n",
    "print(f'Min prod: {avg_prod_ratings.argmin()}')"
   ]
  },
  {
   "cell_type": "markdown",
   "metadata": {
    "id": "XA6hp3sV_vyv"
   },
   "source": [
    "## Exercise 11\n",
    "Create a 5x5 diagonal matrix with 7s along the diagonal."
   ]
  },
  {
   "cell_type": "code",
   "execution_count": 40,
   "metadata": {
    "id": "aARgcob5_vyv"
   },
   "outputs": [
    {
     "name": "stdout",
     "output_type": "stream",
     "text": [
      "[[7. 0. 0. 0. 0.]\n",
      " [0. 7. 0. 0. 0.]\n",
      " [0. 0. 7. 0. 0.]\n",
      " [0. 0. 0. 7. 0.]\n",
      " [0. 0. 0. 0. 7.]]\n"
     ]
    }
   ],
   "source": [
    "# TODO: Your code here!\n",
    "\n",
    "a = np.zeros((5, 5))\n",
    "np.fill_diagonal(a, 7)\n",
    "print(a)"
   ]
  },
  {
   "cell_type": "markdown",
   "metadata": {
    "id": "1Ng827iR_vzA"
   },
   "source": [
    "## Exercise 12\n",
    "- Create two 1D arrays of size 10, generated from random uniform distribution on [0, 1].\n",
    "- Compute their dot product."
   ]
  },
  {
   "cell_type": "code",
   "execution_count": 41,
   "metadata": {
    "id": "RwcldfuG_vzA"
   },
   "outputs": [
    {
     "name": "stdout",
     "output_type": "stream",
     "text": [
      "2.7778733883944047\n"
     ]
    }
   ],
   "source": [
    "# TODO: Your code here!\n",
    "first = np.random.uniform(0, 1, 10)\n",
    "second = np.random.uniform(0, 1, 10)\n",
    "print(first @ second)"
   ]
  },
  {
   "cell_type": "markdown",
   "metadata": {
    "id": "AQp2IzzW_vzA"
   },
   "source": [
    "## Exercise 13\n",
    "Given the following array...\n",
    "- Extract all odd numbers from 'arr'.\n",
    "- Create a new array where all odd numbers in 'arr' are -1 and the rest are the original numbers from arr. Be sure not to change arr (print it out at the end to make sure it hasn't changed)!"
   ]
  },
  {
   "cell_type": "code",
   "execution_count": 45,
   "metadata": {
    "id": "R1wQsw1P_vzA"
   },
   "outputs": [
    {
     "name": "stdout",
     "output_type": "stream",
     "text": [
      "[ 1  3  5  7  9 11 13 15]\n",
      "[-1  2 -1  4 -1  6 -1  8 -1 10 -1 12 -1 14 -1]\n"
     ]
    }
   ],
   "source": [
    "arr = np.array([1, 2, 3, 4, 5, 6, 7, 8, 9, 10, 11, 12, 13, 14, 15])\n",
    "# TODO: Your code here!\n",
    "odds = arr[arr % 2 == 1]\n",
    "print(odds)\n",
    "\n",
    "new_arr = np.where(arr % 2 == 1, -1, arr)\n",
    "print(new_arr)"
   ]
  },
  {
   "cell_type": "markdown",
   "metadata": {
    "id": "86iAiB4B_vzA"
   },
   "source": [
    "## Exercise 14\n",
    "- Create a list from 0 to 100,000.\n",
    "- Write a Python loop to calculate the sum of these numbers.\n",
    "- Convert the list to a NumPy array.\n",
    "- Compute the sum of the array using a NumPy function.\n",
    "- Use %timeit to compare the speed of these two approaches."
   ]
  },
  {
   "cell_type": "code",
   "execution_count": 53,
   "metadata": {
    "id": "gOTHlE4P_vzA"
   },
   "outputs": [],
   "source": [
    "import timeit\n",
    "\n",
    "# TODO: Your code here!\n",
    "my_list = list(range(100000))\n",
    "my_array = np.array(my_list)\n",
    "\n",
    "\n",
    "def list_sum(my_list):\n",
    "    return sum(my_list)\n",
    "\n",
    "\n",
    "def array_sum(my_array):\n",
    "    return my_array.sum()"
   ]
  },
  {
   "cell_type": "code",
   "execution_count": 54,
   "metadata": {
    "id": "prHjjtmz_vzA"
   },
   "outputs": [
    {
     "name": "stdout",
     "output_type": "stream",
     "text": [
      "320 μs ± 1.37 μs per loop (mean ± std. dev. of 7 runs, 1,000 loops each)\n"
     ]
    }
   ],
   "source": [
    "%timeit list_sum(my_list)"
   ]
  },
  {
   "cell_type": "code",
   "execution_count": 55,
   "metadata": {
    "id": "RZPRA8xr_vzA"
   },
   "outputs": [
    {
     "name": "stdout",
     "output_type": "stream",
     "text": [
      "12.1 μs ± 30.7 ns per loop (mean ± std. dev. of 7 runs, 100,000 loops each)\n"
     ]
    }
   ],
   "source": [
    "%timeit array_sum(my_array)"
   ]
  },
  {
   "cell_type": "code",
   "execution_count": null,
   "metadata": {
    "id": "DEflG7Jc_vzA"
   },
   "outputs": [],
   "source": []
  }
 ],
 "metadata": {
  "colab": {
   "provenance": [
    {
     "file_id": "1DgX2-jL2ej3TwFtcmVkTZXsBLDkfLbo9",
     "timestamp": 1752179798175
    }
   ]
  },
  "kernelspec": {
   "display_name": "pni_bootcamp",
   "language": "python",
   "name": "python3"
  },
  "language_info": {
   "codemirror_mode": {
    "name": "ipython",
    "version": 3
   },
   "file_extension": ".py",
   "mimetype": "text/x-python",
   "name": "python",
   "nbconvert_exporter": "python",
   "pygments_lexer": "ipython3",
   "version": "3.12.5"
  },
  "orig_nbformat": 4
 },
 "nbformat": 4,
 "nbformat_minor": 0
}

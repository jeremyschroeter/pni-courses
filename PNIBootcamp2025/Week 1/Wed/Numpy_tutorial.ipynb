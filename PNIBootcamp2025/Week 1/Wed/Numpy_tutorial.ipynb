{
 "cells": [
  {
   "cell_type": "markdown",
   "metadata": {
    "id": "DuAEXxOYCHOV"
   },
   "source": [
    "# Lecture 7: NumPy"
   ]
  },
  {
   "cell_type": "markdown",
   "metadata": {
    "id": "8T2jBnUICHOV"
   },
   "source": [
    "## Introduction\n",
    "\n",
    "NumPy is a foundational library for scientific computing in Python. It provides the\n",
    "ability to perform advanced mathematical operations on extensive, multi-dimensional\n",
    "datasets. It is widely used in fields such as Machine Learning, Image Processing, and\n",
    "Bioinformatics.\n",
    "\n",
    "Python, while highly flexible and versatile, is generally much slower than other\n",
    "programming languages. This is partly due to its flexibility and simplicity (e.g.,\n",
    "interpreted, no explicit type declarations, accomplish tasks in fewer lines of code).\n",
    "\n",
    "However, NumPy is written in C (a compiled language known for its speed), which\n",
    "significantly mitigates these performance drawbacks. When executing a NumPy operation,\n",
    "you're essentially running compiled C code. This results in operations that are both\n",
    "faster and more memory-efficient.\n",
    "\n",
    "While using NumPy, we may have to forgo some of Python's inherent flexibility. However,\n",
    "as we'll explore, the combination of Python's ease-of-use with the speed of a compiled\n",
    "language like C offers a compelling mix for data-heavy scientific computing."
   ]
  },
  {
   "cell_type": "markdown",
   "metadata": {
    "id": "WOxnOnv1CHOV"
   },
   "source": [
    "## Installation\n",
    "\n",
    "If you are using Google Colab, NumPy should already be installed by default. You can\n",
    "check this by trying to import it in the next cell. Check out the previous lecture if\n",
    "you need a refresh on what importing packages does.\n",
    "\n",
    "If the following cell causes a `ModuleNotFoundError`, you will have to install NumPy.\n",
    "With Anaconda, this is made simple through the use of the package managers 'conda' and\n",
    "'pip'. Just enter either of the following commands into your terminal:\n",
    "- `conda install numpy`\n",
    "- `pip install numpy`\n",
    "\n",
    "Alternatively, you can execute `conda install anaconda` which will install a full suite\n",
    "of Python scientific programming packages onto your computer, including NumPy."
   ]
  },
  {
   "cell_type": "code",
   "execution_count": 4,
   "metadata": {
    "id": "1TzxXzyICHOm"
   },
   "outputs": [],
   "source": [
    "import numpy as np\n",
    "\n",
    "A = np.random.normal(0, 1, 36).reshape(6, 6)\n",
    "U = (A - np.eye(6)) @ np.linalg.inv(A + np.eye(6))"
   ]
  },
  {
   "cell_type": "code",
   "execution_count": null,
   "metadata": {},
   "outputs": [
    {
     "data": {
      "text/plain": [
       "(<matplotlib.image.AxesImage at 0x12fbefaa0>,\n",
       " <matplotlib.image.AxesImage at 0x12fc81310>)"
      ]
     },
     "execution_count": 12,
     "metadata": {},
     "output_type": "execute_result"
    },
    {
     "data": {
      "image/png": "[encoded data removed]",
      "text/plain": [
       "<Figure size 640x480 with 1 Axes>"
      ]
     },
     "metadata": {},
     "output_type": "display_data"
    }
   ],
   "source": []
  },
  {
   "cell_type": "markdown",
   "metadata": {
    "id": "U_lKvz_6CHOm"
   },
   "source": [
    "## Array Basics\n",
    "\n",
    "In Python, lists can dynamically change size and allow elements of different types. In\n",
    "NumPy, we use ndarrays instead (n-dimensional arrays). These have fixed size at\n",
    "creation and can only contain elements of the same type. Though this isn't as flexible\n",
    "as lists, it is necessary for the speed improvements that NumPy provides. To see this\n",
    "speed-up in action, consider the two following options for performing elementwise\n",
    "addition on a large list."
   ]
  },
  {
   "cell_type": "code",
   "execution_count": null,
   "metadata": {
    "colab": {
     "base_uri": "https://localhost:8080/"
    },
    "executionInfo": {
     "elapsed": 1467,
     "status": "ok",
     "timestamp": 1687874924390,
     "user": {
      "displayName": "Will Long",
      "userId": "09434312086322271921"
     },
     "user_tz": 0
    },
    "id": "nOecJltkCHOm",
    "outputId": "434e0cf0-f3ca-4298-8868-464aeb9d1c33"
   },
   "outputs": [
    {
     "name": "stdout",
     "output_type": "stream",
     "text": [
      "163 ms ± 44.3 ms per loop (mean ± std. dev. of 7 runs, 1 loop each)\n"
     ]
    }
   ],
   "source": [
    "size = 1000000\n",
    "\n",
    "# First with standard Python lists...\n",
    "list1 = list(range(size))\n",
    "list2 = list(range(size))\n",
    "\n",
    "def add_with_loop(list1, list2):\n",
    "    result = []\n",
    "    for i in range(len(list1)):\n",
    "        result.append(list1[i] + list2[i])\n",
    "    return result\n",
    "\n",
    "%timeit add_with_loop(list1, list2)\n"
   ]
  },
  {
   "cell_type": "code",
   "execution_count": null,
   "metadata": {
    "colab": {
     "base_uri": "https://localhost:8080/"
    },
    "executionInfo": {
     "elapsed": 18217,
     "status": "ok",
     "timestamp": 1687874942607,
     "user": {
      "displayName": "Will Long",
      "userId": "09434312086322271921"
     },
     "user_tz": 0
    },
    "id": "8MwrMzEPCHOm",
    "outputId": "04a9fc22-5cc4-4b1a-cc29-380ba544abc5"
   },
   "outputs": [
    {
     "name": "stdout",
     "output_type": "stream",
     "text": [
      "2.1 ms ± 820 µs per loop (mean ± std. dev. of 7 runs, 1000 loops each)\n"
     ]
    }
   ],
   "source": [
    "# Now with NumPy arrays instead...\n",
    "array1 = np.array(list1)\n",
    "array2 = np.array(list2)\n",
    "\n",
    "def add_with_numpy(array1, array2):\n",
    "    return array1 + array2\n",
    "\n",
    "%timeit add_with_numpy(array1, array2)"
   ]
  },
  {
   "cell_type": "markdown",
   "metadata": {
    "id": "-aaUG8ciCHOm"
   },
   "source": [
    "The NumPy implementation provides a significant speed improvement over the standard\n",
    "Python implementation (nearly 100x). In real-world applications involving large datasets\n",
    "or images, this difference could translate into hours or days of saved processing time.\n",
    "\n",
    "In addition to the performance improvements, we see that NumPy provides a more intuitive\n",
    "and convenient syntax for working with arrays (one line of code vs. four lines of code\n",
    "above). If you're familiar with MATLAB, NumPy's array syntax will be similar."
   ]
  },
  {
   "cell_type": "code",
   "execution_count": null,
   "metadata": {
    "colab": {
     "base_uri": "https://localhost:8080/"
    },
    "executionInfo": {
     "elapsed": 34,
     "status": "ok",
     "timestamp": 1687874942607,
     "user": {
      "displayName": "Will Long",
      "userId": "09434312086322271921"
     },
     "user_tz": 0
    },
    "id": "RgnDg3FVCHOm",
    "outputId": "be741a5e-d519-4931-be3b-5ff3784df93d"
   },
   "outputs": [
    {
     "name": "stdout",
     "output_type": "stream",
     "text": [
      "List: [0, 1, 2, 3, 4]\n",
      "List * 3: [0, 1, 2, 3, 4, 0, 1, 2, 3, 4, 0, 1, 2, 3, 4]\n",
      "Error: Cannot multiply lists together.\n"
     ]
    }
   ],
   "source": [
    "example_list = list(range(5))\n",
    "\n",
    "print(\"List:\", example_list)\n",
    "print(\"List * 3:\", example_list * 3)  # Repetition\n",
    "\n",
    "try:\n",
    "    print(example_list * example_list)  # Invalid operation\n",
    "except:\n",
    "    print(\"Error: Cannot multiply lists together.\")"
   ]
  },
  {
   "cell_type": "code",
   "execution_count": null,
   "metadata": {
    "colab": {
     "base_uri": "https://localhost:8080/"
    },
    "executionInfo": {
     "elapsed": 34,
     "status": "ok",
     "timestamp": 1687874942607,
     "user": {
      "displayName": "Will Long",
      "userId": "09434312086322271921"
     },
     "user_tz": 0
    },
    "id": "F7ipF8opCHOm",
    "outputId": "3e93db65-71a0-484d-d2da-d811d24cd48e"
   },
   "outputs": [
    {
     "name": "stdout",
     "output_type": "stream",
     "text": [
      "Array: [0 1 2 3 4]\n",
      "Array * 3: [ 0  3  6  9 12]\n",
      "Array * Array: [ 0  1  4  9 16]\n"
     ]
    }
   ],
   "source": [
    "# We can convert a list to a numpy array using np.array()\n",
    "arr = np.array(example_list)\n",
    "\n",
    "print(\"Array:\", arr)\n",
    "print(\"Array * 3:\", arr * 3)  # Multiplication by scalar\n",
    "print(\"Array * Array:\", arr * arr)  # Element-wise multiplication"
   ]
  },
  {
   "cell_type": "markdown",
   "metadata": {
    "id": "LKp9HT0sCHOm"
   },
   "source": [
    "Numpy also supports multi-dimensional arrays. Let's create a two-dimensional array\n",
    "(matrix) and perform some operations on it."
   ]
  },
  {
   "cell_type": "code",
   "execution_count": null,
   "metadata": {
    "colab": {
     "base_uri": "https://localhost:8080/"
    },
    "executionInfo": {
     "elapsed": 34,
     "status": "ok",
     "timestamp": 1687874942607,
     "user": {
      "displayName": "Will Long",
      "userId": "09434312086322271921"
     },
     "user_tz": 0
    },
    "id": "Wj0H27mTCHOm",
    "outputId": "972daa69-6e38-4c09-a70c-ac41bf599bc5"
   },
   "outputs": [
    {
     "name": "stdout",
     "output_type": "stream",
     "text": [
      "List:\n",
      "[[1, 2, 3], [4, 5, 6], [7, 8, 9]]\n",
      "Matrix:\n",
      "[[1 2 3]\n",
      " [4 5 6]\n",
      " [7 8 9]]\n",
      "Rows:\n",
      "[1 2 3]\n",
      "[4 5 6]\n",
      "[7 8 9]\n",
      "Cols:\n",
      "[1 4 7]\n",
      "[2 5 8]\n",
      "[3 6 9]\n"
     ]
    }
   ],
   "source": [
    "list_2d = [[1, 2, 3], [4, 5, 6], [7, 8, 9]]\n",
    "arr = np.array(list_2d)\n",
    "\n",
    "print(\"List:\")\n",
    "print(list_2d)\n",
    "\n",
    "print(\"Matrix:\")\n",
    "print(arr)\n",
    "\n",
    "# Alternatively, iterate through rows.\n",
    "print(\"Rows:\")\n",
    "for row in arr:\n",
    "    print(row)\n",
    "\n",
    "print(\"Cols:\")\n",
    "for col in arr.T:\n",
    "    print(col)"
   ]
  },
  {
   "cell_type": "markdown",
   "metadata": {
    "id": "GfntX4ugCHOm"
   },
   "source": [
    "Here are some commonly used attributes of NumPy arrays."
   ]
  },
  {
   "cell_type": "code",
   "execution_count": null,
   "metadata": {
    "colab": {
     "base_uri": "https://localhost:8080/"
    },
    "executionInfo": {
     "elapsed": 17,
     "status": "ok",
     "timestamp": 1687874942607,
     "user": {
      "displayName": "Will Long",
      "userId": "09434312086322271921"
     },
     "user_tz": 0
    },
    "id": "k_qVP6TuCHOm",
    "outputId": "c420bf77-b92b-41b8-b6ee-c4b866d71921"
   },
   "outputs": [
    {
     "name": "stdout",
     "output_type": "stream",
     "text": [
      "type:  <class 'numpy.ndarray'>\n",
      "dtype:  int64\n",
      "shape:  (3, 3)\n",
      "ndim:  2\n",
      "size:  9\n"
     ]
    }
   ],
   "source": [
    "print(\"type: \", type(arr))\n",
    "print(\"dtype: \", arr.dtype)\n",
    "print(\"shape: \", arr.shape)\n",
    "print(\"ndim: \", arr.ndim)  # number of dimensions\n",
    "print(\"size: \", arr.size)  # number of elements"
   ]
  },
  {
   "cell_type": "markdown",
   "metadata": {
    "id": "Yp5Ba-6UCHOm"
   },
   "source": [
    "For the rest of this notebook, we'll stick to 1D and 2D arrays for simplicity, but keep\n",
    "in mind that NumPy works with arrays of arbitrary dimensionality."
   ]
  },
  {
   "cell_type": "code",
   "execution_count": null,
   "metadata": {
    "colab": {
     "base_uri": "https://localhost:8080/"
    },
    "executionInfo": {
     "elapsed": 17,
     "status": "ok",
     "timestamp": 1687874942607,
     "user": {
      "displayName": "Will Long",
      "userId": "09434312086322271921"
     },
     "user_tz": 0
    },
    "id": "B09D1edgCHOm",
    "outputId": "207f1836-fdf5-41e8-82d5-ce4cc7fb6520"
   },
   "outputs": [
    {
     "name": "stdout",
     "output_type": "stream",
     "text": [
      "array:\n",
      "[[[1 2 3]\n",
      "  [4 5 6]]\n",
      "\n",
      " [[7 8 9]\n",
      "  [0 1 2]]]\n",
      "type:  <class 'numpy.ndarray'>\n",
      "dtype:  int64\n",
      "shape:  (2, 2, 3)\n",
      "ndim:  3\n",
      "size:  12\n"
     ]
    }
   ],
   "source": [
    "# 3D array example...\n",
    "list_3d = [[[1, 2, 3], [4, 5, 6]], [[7, 8, 9], [0, 1, 2]]]\n",
    "arr = np.array(list_3d)\n",
    "\n",
    "print(\"array:\")\n",
    "print(arr)\n",
    "print(\"type: \", type(arr))\n",
    "print(\"dtype: \", arr.dtype)\n",
    "print(\"shape: \", arr.shape)\n",
    "print(\"ndim: \", arr.ndim)\n",
    "print(\"size: \", arr.size)"
   ]
  },
  {
   "cell_type": "markdown",
   "metadata": {
    "id": "Zim5heibCHOm"
   },
   "source": [
    "## Indexing and Slicing\n",
    "\n",
    "We can index NumPy arrays in a similar manner to NumPy lists. For multi-dimensional\n",
    "arrays, we can index each dimension separately by placing commas in between the indices."
   ]
  },
  {
   "cell_type": "code",
   "execution_count": null,
   "metadata": {
    "colab": {
     "base_uri": "https://localhost:8080/"
    },
    "executionInfo": {
     "elapsed": 17,
     "status": "ok",
     "timestamp": 1687874942607,
     "user": {
      "displayName": "Will Long",
      "userId": "09434312086322271921"
     },
     "user_tz": 0
    },
    "id": "sAM-nyxGCHOm",
    "outputId": "f10b4db4-1c2f-4c67-813a-b9d3e5020d7d"
   },
   "outputs": [
    {
     "name": "stdout",
     "output_type": "stream",
     "text": [
      "Matrix:\n",
      "[[ 0  1  2  3]\n",
      " [ 4  5  6  7]\n",
      " [ 8  9 10 11]\n",
      " [12 13 14 15]]\n",
      "First row: [0 1 2 3]\n",
      "First column: [ 0  4  8 12]\n",
      "First element: 0\n",
      "First two rows:\n",
      "[[0 1 2 3]\n",
      " [4 5 6 7]]\n",
      "Last two columns:\n",
      "[[ 2  3]\n",
      " [ 6  7]\n",
      " [10 11]\n",
      " [14 15]]\n",
      "Middle two rows/columns:\n",
      "[[ 5  6]\n",
      " [ 9 10]]\n"
     ]
    }
   ],
   "source": [
    "print(\"Matrix:\")\n",
    "arr = np.arange(16).reshape(4, 4)  # Don't worry about this line for now.\n",
    "print(arr)\n",
    "\n",
    "print(\"First row:\", arr[0])\n",
    "print(\"First column:\", arr[:, 0])  # ':' symbol alone selects all elements for axis.\n",
    "print(\"First element:\", arr[0, 0])\n",
    "\n",
    "print(\"First two rows:\")\n",
    "print(arr[0:2])\n",
    "print(\"Last two columns:\")\n",
    "print(arr[:, -2:])\n",
    "print(\"Middle two rows/columns:\")\n",
    "print(arr[1:3, 1:3])"
   ]
  },
  {
   "cell_type": "code",
   "execution_count": null,
   "metadata": {
    "colab": {
     "base_uri": "https://localhost:8080/"
    },
    "executionInfo": {
     "elapsed": 17,
     "status": "ok",
     "timestamp": 1687874942607,
     "user": {
      "displayName": "Will Long",
      "userId": "09434312086322271921"
     },
     "user_tz": 0
    },
    "id": "iQBm0DtZQDM5",
    "outputId": "1f6bff0f-d9c3-4aae-c1be-72415d508672"
   },
   "outputs": [
    {
     "data": {
      "text/plain": [
       "['a', 'b', 'c']"
      ]
     },
     "execution_count": 10,
     "metadata": {},
     "output_type": "execute_result"
    }
   ],
   "source": [
    "my_list = [\"a\", \"b\", \"c\", \"d\", \"e\"]\n",
    "my_list[0:3]"
   ]
  },
  {
   "cell_type": "code",
   "execution_count": null,
   "metadata": {
    "colab": {
     "base_uri": "https://localhost:8080/"
    },
    "executionInfo": {
     "elapsed": 17,
     "status": "ok",
     "timestamp": 1687874942607,
     "user": {
      "displayName": "Will Long",
      "userId": "09434312086322271921"
     },
     "user_tz": 0
    },
    "id": "JWg8U_jvTjQg",
    "outputId": "2e5ffb0e-c631-4395-8d29-591609d7c67b"
   },
   "outputs": [
    {
     "data": {
      "text/plain": [
       "array([ 1,  4,  9, 16, 25])"
      ]
     },
     "execution_count": 11,
     "metadata": {},
     "output_type": "execute_result"
    }
   ],
   "source": [
    "x = np.array([1,2,3,4,5])\n",
    "x**2"
   ]
  },
  {
   "cell_type": "markdown",
   "metadata": {
    "id": "rEncoTexCHOm"
   },
   "source": [
    "We can also index NumPy arrays using Booleans instead, which can be a powerful way to\n",
    "select subsets of your data using conditional expressions. `np.where(condition)` is a\n",
    "useful function for this purpose, and will return all the indices where a conditional\n",
    "array evaluates to True."
   ]
  },
  {
   "cell_type": "code",
   "execution_count": null,
   "metadata": {
    "colab": {
     "base_uri": "https://localhost:8080/"
    },
    "executionInfo": {
     "elapsed": 0,
     "status": "ok",
     "timestamp": 1687875359248,
     "user": {
      "displayName": "Will Long",
      "userId": "09434312086322271921"
     },
     "user_tz": 0
    },
    "id": "aijSp7c4CHOm",
    "outputId": "8df8a54f-548f-4c81-c279-b744c15f4902"
   },
   "outputs": [
    {
     "name": "stdout",
     "output_type": "stream",
     "text": [
      "Matrix:\n",
      "[[5 0 1 3]\n",
      " [8 6 4 8]\n",
      " [3 8 6 6]\n",
      " [6 3 5 2]]\n",
      "\n",
      "Indices (arr < 5):\n",
      "(array([0, 0, 0, 1, 2, 3, 3]), array([1, 2, 3, 2, 0, 1, 3]))\n",
      "\n",
      "[[0 1 1 1]\n",
      " [0 0 1 0]\n",
      " [1 0 0 0]\n",
      " [0 1 0 1]]\n"
     ]
    }
   ],
   "source": [
    "arr = np.random.randint(0, 10, 16).reshape(4, 4)\n",
    "\n",
    "print(\"Matrix:\")\n",
    "print(arr)\n",
    "print()\n",
    "\n",
    "print(\"Indices (arr < 5):\")\n",
    "print(np.where(arr < 5))\n",
    "print()\n",
    "\n",
    "print(np.where(arr < 5, 1, 0))"
   ]
  },
  {
   "cell_type": "markdown",
   "metadata": {
    "id": "ik-1yGwKCHOm"
   },
   "source": [
    "## Creating Arrays\n",
    "\n",
    "So far, we've created arrays by wrapping lists with the `np.array()` function, but NumPy\n",
    "also provides some helper methods for creating common types of arrays."
   ]
  },
  {
   "cell_type": "code",
   "execution_count": null,
   "metadata": {
    "colab": {
     "base_uri": "https://localhost:8080/"
    },
    "executionInfo": {
     "elapsed": 0,
     "status": "ok",
     "timestamp": 1687875601686,
     "user": {
      "displayName": "Will Long",
      "userId": "09434312086322271921"
     },
     "user_tz": 0
    },
    "id": "0CBJ3Pm9CHOm",
    "outputId": "78b147d7-aa3e-4e04-a31d-51d398d5c1cb"
   },
   "outputs": [
    {
     "name": "stdout",
     "output_type": "stream",
     "text": [
      "Zeros: [[0. 0. 0. 0. 0.]\n",
      " [0. 0. 0. 0. 0.]\n",
      " [0. 0. 0. 0. 0.]\n",
      " [0. 0. 0. 0. 0.]\n",
      " [0. 0. 0. 0. 0.]]\n",
      "Ones: [[1. 1. 1. 1. 1.]\n",
      " [1. 1. 1. 1. 1.]\n",
      " [1. 1. 1. 1. 1.]\n",
      " [1. 1. 1. 1. 1.]\n",
      " [1. 1. 1. 1. 1.]]\n",
      "Random (0 to 1): [[0.77678159 0.74192914 0.38632194 0.67789918 0.94849925]\n",
      " [0.92395463 0.78066054 0.3004526  0.31130082 0.1900757 ]\n",
      " [0.50393857 0.86125823 0.99274112 0.74796918 0.29450618]\n",
      " [0.8797208  0.55162414 0.39798946 0.61881265 0.15007749]\n",
      " [0.73429983 0.10956805 0.95042655 0.69994096 0.26592877]]\n",
      "Random Int (0 to 10): [[6 2 0 3 5]\n",
      " [2 5 0 8 6]\n",
      " [5 2 2 7 3]\n",
      " [7 2 7 9 8]\n",
      " [2 0 9 0 1]]\n",
      "Random Normal: [[ 0.23730704 -0.83668234 -0.44696031  1.5381051  -0.8375174 ]\n",
      " [ 0.3870212   0.47301943  0.21642249  1.47928248 -1.59416607]\n",
      " [-0.88833971  0.15288605  0.47230006 -1.33168954 -2.98649971]\n",
      " [-1.18195637  0.97946122 -0.19946071  0.48504628 -0.03577909]\n",
      " [-1.03186218 -0.38368613 -1.02337683 -1.06400626 -1.36256987]]\n"
     ]
    }
   ],
   "source": [
    "size = (5, 5)\n",
    "print(\"Zeros:\", np.zeros(size))\n",
    "print(\"Ones:\", np.ones(size))\n",
    "print(\"Random (0 to 1):\", np.random.rand(*size))  # Uniform distribution on [0, 1)\n",
    "print(\"Random Int (0 to 10):\", np.random.randint(0, 10, size))  # Uniform on [0, 10)\n",
    "print(\"Random Normal:\", np.random.normal(0, 1, size))  # Normal dist (mean 0, std 1)"
   ]
  },
  {
   "cell_type": "markdown",
   "metadata": {
    "id": "LwDZ2fyrCHOm"
   },
   "source": [
    "There are also two primary functions to create array sequences.\n",
    "\n",
    "`np.arange(start, stop, step)` works similarly to the `range()` function we've already\n",
    "worked with, going from 'start' (inclusive) to 'stop' (exclusive) with an interval of\n",
    "'step' between each number. Unlike `range()`, however, `arange()` accepts floats as well\n",
    "as integers.\n",
    "\n",
    "`np.linspace(start, stop, num)` returns 'num' elements, evenly spaced between 'start'\n",
    "and 'stop' (both inclusive)."
   ]
  },
  {
   "cell_type": "code",
   "execution_count": null,
   "metadata": {
    "id": "sfG5tbIrCHOm",
    "outputId": "b84d06f9-358b-4084-e7ce-60bd138d152e"
   },
   "outputs": [
    {
     "name": "stdout",
     "output_type": "stream",
     "text": [
      "arange()\n",
      "[ 1  3  5  7  9 11 13]\n",
      "[ 1  2  3  4  5  6  7  8  9 10 11 12 13 14]\n",
      "[ 0  1  2  3  4  5  6  7  8  9 10 11 12 13 14]\n",
      "\n",
      "linspace()\n",
      "[ 0.   2.5  5.   7.5 10. ]\n",
      "[ 0.  1.  2.  3.  4.  5.  6.  7.  8.  9. 10.]\n"
     ]
    }
   ],
   "source": [
    "print(\"arange()\")\n",
    "print(np.arange(1, 15, 2))  # 1 to 15, step 2\n",
    "print(np.arange(1, 15))  # 1 to 15, step 1 (default step)\n",
    "print(np.arange(15))  # 0 to 15, step 1 (default start and step)\n",
    "print()\n",
    "\n",
    "print(\"linspace()\")\n",
    "print(np.linspace(0, 10, 5))  # 5 evenly spaced numbers from 0 to 10\n",
    "print(np.linspace(0, 10, 11))  # 11 evenly spaced numbers from 0 to 10"
   ]
  },
  {
   "cell_type": "markdown",
   "metadata": {
    "id": "tpKu-LFgCHOm"
   },
   "source": [
    "We can use `reshape()` to change the shape of our arrays. Note that most NumPy\n",
    "functions, by default, avoid modifying the original array, so we'll need to assign the\n",
    "result back to a variable."
   ]
  },
  {
   "cell_type": "code",
   "execution_count": null,
   "metadata": {
    "colab": {
     "base_uri": "https://localhost:8080/"
    },
    "executionInfo": {
     "elapsed": 217,
     "status": "ok",
     "timestamp": 1687876076496,
     "user": {
      "displayName": "Will Long",
      "userId": "09434312086322271921"
     },
     "user_tz": 0
    },
    "id": "yU9FtZcHCHOm",
    "outputId": "d3f9a72d-2739-4908-f903-c48d00c70fbf"
   },
   "outputs": [
    {
     "name": "stdout",
     "output_type": "stream",
     "text": [
      "Row:\n",
      "(9,)\n",
      "[0 1 2 3 4 5 6 7 8]\n",
      "\n",
      "Column:\n",
      "(9, 1)\n",
      "[[0]\n",
      " [1]\n",
      " [2]\n",
      " [3]\n",
      " [4]\n",
      " [5]\n",
      " [6]\n",
      " [7]\n",
      " [8]]\n",
      "\n",
      "Matrix:\n",
      "(3, 3)\n",
      "[[0 1 2]\n",
      " [3 4 5]\n",
      " [6 7 8]]\n",
      "\n",
      "Flattened:\n",
      "(9,)\n",
      "[0 1 2 3 4 5 6 7 8]\n"
     ]
    }
   ],
   "source": [
    "arr = np.arange(9)  # row vector by default\n",
    "\n",
    "print(\"Row:\")\n",
    "print(arr.shape)\n",
    "print(arr)\n",
    "print()\n",
    "\n",
    "# Adding an \"empty\" dimension to the array makes it a column vector.\n",
    "arr = np.reshape(arr, (arr.size, 1))\n",
    "print(\"Column:\")\n",
    "print(arr.shape)\n",
    "print(arr)\n",
    "print()\n",
    "\n",
    "# We can also use 'reshape' as a method.\n",
    "arr = arr.reshape(3, 3)\n",
    "print(\"Matrix:\")\n",
    "print(arr.shape)\n",
    "print(arr)\n",
    "print()\n",
    "\n",
    "# And we can use 'flatten' to convert the matrix back to our original row vector.\n",
    "arr = arr.flatten()\n",
    "print(\"Flattened:\")\n",
    "print(arr.shape)\n",
    "print(arr)"
   ]
  },
  {
   "cell_type": "code",
   "execution_count": null,
   "metadata": {
    "colab": {
     "base_uri": "https://localhost:8080/"
    },
    "executionInfo": {
     "elapsed": 216,
     "status": "ok",
     "timestamp": 1687876095846,
     "user": {
      "displayName": "Will Long",
      "userId": "09434312086322271921"
     },
     "user_tz": 0
    },
    "id": "-4IZeVc7CHO3",
    "outputId": "9b4c1ff2-0321-4e67-f4d9-7a2005f887b1"
   },
   "outputs": [
    {
     "name": "stdout",
     "output_type": "stream",
     "text": [
      "identity:\n",
      "[[1. 0. 0.]\n",
      " [0. 1. 0.]\n",
      " [0. 0. 1.]]\n",
      "\n",
      "eye:\n",
      "[[1. 0. 0. 0. 0.]\n",
      " [0. 1. 0. 0. 0.]\n",
      " [0. 0. 1. 0. 0.]]\n",
      "\n",
      "diag:\n",
      "[[1 0 0]\n",
      " [0 2 0]\n",
      " [0 0 3]]\n",
      "\n",
      "full:\n",
      "[[5 5 5]\n",
      " [5 5 5]]\n"
     ]
    }
   ],
   "source": [
    "# Some additional common functions for creating matrices...\n",
    "\n",
    "print(\"identity:\")\n",
    "print(np.identity(3))\n",
    "print()\n",
    "\n",
    "print(\"eye:\")  # similar to identity, but can create non-square matrices.\n",
    "print(np.eye(3, 5))\n",
    "print()\n",
    "\n",
    "print(\"diag:\")\n",
    "print(np.diag([1, 2, 3]))\n",
    "print()\n",
    "\n",
    "print(\"full:\")\n",
    "print(np.full(shape=(2, 3), fill_value=5))"
   ]
  },
  {
   "cell_type": "markdown",
   "metadata": {
    "id": "ZUqSO2AjCHO3"
   },
   "source": [
    "## Common Functions\n",
    "\n",
    "NumPy provides a wide range of functions for working with arrays. Some common ones are\n",
    "below, but Google/ChatGPT/StackOverflow are all useful resources for finding the\n",
    "function you need to solve your problem."
   ]
  },
  {
   "cell_type": "code",
   "execution_count": null,
   "metadata": {
    "id": "qmW_ztkPCHO3",
    "outputId": "40824a53-ed9d-40b0-bdba-48b52fdd8a8d"
   },
   "outputs": [
    {
     "name": "stdout",
     "output_type": "stream",
     "text": [
      "Type:  <class 'numpy.ndarray'>\n",
      "Datatype before conversion: int64\n",
      "Datatype after conversion: float64\n"
     ]
    }
   ],
   "source": [
    "arr = np.arange(9)\n",
    "\n",
    "# `type()` only tells us that it is an array, but not what type of array.\n",
    "print(\"Type: \", type(arr))\n",
    "\n",
    "# We can use the `dtype` attribute to find out what type of array it is.\n",
    "print(\"Datatype before conversion:\", arr.dtype)\n",
    "\n",
    "# If we want to convert the datatype of this array, we can use the 'astype' function.\n",
    "# This is often useful when preprocessing data.\n",
    "arr = arr.astype(float)\n",
    "print(\"Datatype after conversion:\", arr.dtype)"
   ]
  },
  {
   "cell_type": "code",
   "execution_count": null,
   "metadata": {
    "id": "MLytLgPbCHO3",
    "outputId": "a24738eb-287d-4959-f0ed-ce210777293e"
   },
   "outputs": [
    {
     "name": "stdout",
     "output_type": "stream",
     "text": [
      "array: [ 0.2    2.42   3.9    1.2   -0.156 -4.3    5.72   6.     0.     1.13 ]\n",
      "round: [ 0.  2.  4.  1. -0. -4.  6.  6.  0.  1.]\n",
      "round (1 decimal): [ 0.2  2.4  3.9  1.2 -0.2 -4.3  5.7  6.   0.   1.1]\n",
      "floor: [ 0.  2.  3.  1. -1. -5.  5.  6.  0.  1.]\n",
      "ceil: [ 1.  3.  4.  2. -0. -4.  6.  6.  0.  2.]\n",
      "original: [ 0.2    2.42   3.9    1.2   -0.156 -4.3    5.72   6.     0.     1.13 ]\n"
     ]
    }
   ],
   "source": [
    "arr = np.array([0.2, 2.42, 3.9, 1.2, -0.156, -4.3, 5.72, 6.0, 0.0, 1.13])\n",
    "\n",
    "print(\"array:\", arr)\n",
    "print(\"round:\", np.round(arr))\n",
    "print(\"round (1 decimal):\", np.round(arr, 1))\n",
    "print(\"floor:\", np.floor(arr))\n",
    "print(\"ceil:\", np.ceil(arr))\n",
    "print(\"original:\", arr)  # Remember, these functions do not modify the original array."
   ]
  },
  {
   "cell_type": "code",
   "execution_count": null,
   "metadata": {
    "colab": {
     "base_uri": "https://localhost:8080/"
    },
    "executionInfo": {
     "elapsed": 350,
     "status": "ok",
     "timestamp": 1687876463837,
     "user": {
      "displayName": "Will Long",
      "userId": "09434312086322271921"
     },
     "user_tz": 0
    },
    "id": "m1Q3YBOVCHO3",
    "outputId": "457da15a-5852-40b3-c08b-db637045eccb"
   },
   "outputs": [
    {
     "name": "stdout",
     "output_type": "stream",
     "text": [
      "min: 0\n",
      "max: 8\n",
      "argmin: 0\n",
      "argmax: 8\n"
     ]
    }
   ],
   "source": [
    "# 'min()' and 'max()' functions return the minimum and maximum values in the array.\n",
    "print(\"min:\", np.min(arr))\n",
    "print(\"max:\", np.max(arr))\n",
    "# 'argmin()' and 'argmax()' functions return the index of the min and max values.\n",
    "print(\"argmin:\", np.argmin(arr))\n",
    "print(\"argmax:\", np.argmax(arr))"
   ]
  },
  {
   "cell_type": "code",
   "execution_count": null,
   "metadata": {
    "colab": {
     "base_uri": "https://localhost:8080/"
    },
    "executionInfo": {
     "elapsed": 233,
     "status": "ok",
     "timestamp": 1687876464320,
     "user": {
      "displayName": "Will Long",
      "userId": "09434312086322271921"
     },
     "user_tz": 0
    },
    "id": "BC42wJASCHO3",
    "outputId": "c980cecc-818f-451a-d4b4-7034ffecd0ed"
   },
   "outputs": [
    {
     "name": "stdout",
     "output_type": "stream",
     "text": [
      "size: 9\n",
      "sum: 36\n",
      "mean: 4.0\n",
      "std: 2.581988897471611\n",
      "var: 6.666666666666667\n",
      "percentile (25th): 2.0\n",
      "median: 4.0\n",
      "percentile (75th): 6.0\n"
     ]
    }
   ],
   "source": [
    "# The following functions are commonly used to summarize data.\n",
    "print(\"size:\", np.size(arr))  # number of elements\n",
    "print(\"sum:\", np.sum(arr))\n",
    "print(\"mean:\", np.mean(arr))\n",
    "print(\"std:\", np.std(arr))  # standard deviation\n",
    "print(\"var:\", np.var(arr))  # variance\n",
    "print(\"percentile (25th):\", np.percentile(arr, 25))  # 25th percentile\n",
    "print(\"median:\", np.median(arr))\n",
    "print(\"percentile (75th):\", np.percentile(arr, 75))  # 75th percentile"
   ]
  },
  {
   "cell_type": "code",
   "execution_count": null,
   "metadata": {
    "id": "CrSS1U4zCHO3",
    "outputId": "82cca397-5c7e-4b05-b0ba-84aec40913e7"
   },
   "outputs": [
    {
     "name": "stdout",
     "output_type": "stream",
     "text": [
      "array: [ 1  4  9 16 25]\n",
      "sum: 55\n",
      "product: 14400\n",
      "diff: [3 5 7 9]\n",
      "exp: [2.71828183e+00 5.45981500e+01 8.10308393e+03 8.88611052e+06\n",
      " 7.20048993e+10]\n",
      "log: [0.         1.38629436 2.19722458 2.77258872 3.21887582]\n",
      "log10: [0.         0.60205999 0.95424251 1.20411998 1.39794001]\n",
      "sqrt: [1. 2. 3. 4. 5.]\n"
     ]
    }
   ],
   "source": [
    "# And some common math functions...\n",
    "arr = np.array([1, 4, 9, 16, 25])\n",
    "print(\"array:\", arr)\n",
    "\n",
    "print(\"sum:\", np.sum(arr))\n",
    "print(\"product:\", np.prod(arr))\n",
    "print(\"diff:\", np.diff(arr))  # difference between adjacent elements\n",
    "print(\"exp:\", np.exp(arr))  # e^x\n",
    "print(\"log:\", np.log(arr))  # natural log\n",
    "print(\"log10:\", np.log10(arr))  # log base 10\n",
    "print(\"sqrt:\", np.sqrt(arr))  # square root"
   ]
  },
  {
   "cell_type": "code",
   "execution_count": null,
   "metadata": {
    "id": "kyo9f1MpCHO3",
    "outputId": "fd00d7f8-20b0-41af-a664-30258c3648a5"
   },
   "outputs": [
    {
     "name": "stdout",
     "output_type": "stream",
     "text": [
      "sort: [1 1 1 1 1 2 2 2 2 3 3 3 3 4 4 4 4 5 5 5]\n",
      "unique: [1 2 3 4 5]\n",
      "unique (w/ counts): (array([1, 2, 3, 4, 5]), array([5, 4, 4, 4, 3]))\n"
     ]
    }
   ],
   "source": [
    "arr = np.array([3, 3, 5, 1, 2, 1, 1, 4, 4, 2, 3, 5, 5, 1, 2, 4, 4, 3, 2, 1])\n",
    "\n",
    "print(\"sort:\", np.sort(arr))\n",
    "print(\"unique:\", np.unique(arr))\n",
    "print(\"unique (w/ counts):\", np.unique(arr, return_counts=True))"
   ]
  },
  {
   "cell_type": "markdown",
   "metadata": {
    "id": "JtyjTAqJCHO3"
   },
   "source": [
    "When working with multi-dimensional arrays, many NumPy functions provide an optional\n",
    "'axis' argument that allows us to specify which axes we want to group our operations\n",
    "over (default is to use the entire array)."
   ]
  },
  {
   "cell_type": "code",
   "execution_count": null,
   "metadata": {
    "id": "ky983sN-CHO3",
    "outputId": "6d980c11-4928-4f60-ea86-80a1c4c989d4"
   },
   "outputs": [
    {
     "name": "stdout",
     "output_type": "stream",
     "text": [
      "Array:\n",
      "[[ 0  1  2  3]\n",
      " [ 4  5  6  7]\n",
      " [ 8  9 10 11]\n",
      " [12 13 14 15]]\n",
      "sum: 120\n",
      "row sums: [ 6 22 38 54]\n",
      "column sums: [24 28 32 36]\n",
      "min:  0\n",
      "Min (each row):  [ 0  4  8 12]\n",
      "Min (each column):  [0 1 2 3]\n"
     ]
    }
   ],
   "source": [
    "arr = np.arange(16).reshape(4, 4)\n",
    "\n",
    "print(\"Array:\")\n",
    "print(arr)\n",
    "\n",
    "print(\"sum:\", np.sum(arr))\n",
    "print(\"row sums:\", np.sum(arr, axis=1))\n",
    "print(\"column sums:\", np.sum(arr, axis=0))\n",
    "\n",
    "print(\"min: \", np.min(arr))\n",
    "print(\"Min (each row): \", np.min(arr, axis=1))\n",
    "print(\"Min (each column): \", np.min(arr, axis=0))"
   ]
  },
  {
   "cell_type": "markdown",
   "metadata": {
    "id": "uP9J-QudCHO3"
   },
   "source": [
    "## Linear Algebra\n",
    "\n",
    "As a matrix library, NumPy provides a wide range of functions from linear algebra as\n",
    "well that have been optimized for efficiency."
   ]
  },
  {
   "cell_type": "code",
   "execution_count": null,
   "metadata": {
    "colab": {
     "base_uri": "https://localhost:8080/"
    },
    "executionInfo": {
     "elapsed": 267,
     "status": "ok",
     "timestamp": 1687877229069,
     "user": {
      "displayName": "Will Long",
      "userId": "09434312086322271921"
     },
     "user_tz": 0
    },
    "id": "1BWxtqLfCHO3",
    "outputId": "10a41ee2-b268-4743-98a5-93431a4c2ceb"
   },
   "outputs": [
    {
     "name": "stdout",
     "output_type": "stream",
     "text": [
      "Array:\n",
      "[[ 0  1  2  3]\n",
      " [ 4  5  6  7]\n",
      " [ 8  9 10 11]\n",
      " [12 13 14 15]]\n",
      "\n",
      "Transpose:\n",
      "[[ 0  4  8 12]\n",
      " [ 1  5  9 13]\n",
      " [ 2  6 10 14]\n",
      " [ 3  7 11 15]]\n",
      "[[ 0  4  8 12]\n",
      " [ 1  5  9 13]\n",
      " [ 2  6 10 14]\n",
      " [ 3  7 11 15]]\n",
      "\n",
      "Diagonal:\n",
      "[ 0  5 10 15]\n",
      "\n",
      "Upper Triangular:\n",
      "[[ 0  1  2  3]\n",
      " [ 0  5  6  7]\n",
      " [ 0  0 10 11]\n",
      " [ 0  0  0 15]]\n",
      "\n",
      "Lower Triangular:\n",
      "[[ 0  0  0  0]\n",
      " [ 4  5  0  0]\n",
      " [ 8  9 10  0]\n",
      " [12 13 14 15]]\n",
      "\n",
      "Matrix Multiplication:\n",
      "[[ 14  38  62  86]\n",
      " [ 38 126 214 302]\n",
      " [ 62 214 366 518]\n",
      " [ 86 302 518 734]]\n",
      "[[ 14  38  62  86]\n",
      " [ 38 126 214 302]\n",
      " [ 62 214 366 518]\n",
      " [ 86 302 518 734]]\n",
      "[[ 14  38  62  86]\n",
      " [ 38 126 214 302]\n",
      " [ 62 214 366 518]\n",
      " [ 86 302 518 734]]\n"
     ]
    }
   ],
   "source": [
    "arr = np.arange(16).reshape(4, 4)\n",
    "print(\"Array:\")\n",
    "print(arr)\n",
    "print()\n",
    "\n",
    "print(\"Transpose:\")\n",
    "print(arr.T)\n",
    "print(np.transpose(arr))\n",
    "print()\n",
    "\n",
    "print(\"Diagonal:\")\n",
    "print(np.diag(arr))\n",
    "print()\n",
    "\n",
    "print(\"Upper Triangular:\")\n",
    "print(np.triu(arr))\n",
    "print()\n",
    "\n",
    "print(\"Lower Triangular:\")\n",
    "print(np.tril(arr))\n",
    "print()\n",
    "\n",
    "print(\"Matrix Multiplication:\")\n",
    "print(np.matmul(arr, arr.T))\n",
    "print(np.dot(arr, arr.T))\n",
    "print(arr @ arr.T)"
   ]
  },
  {
   "cell_type": "code",
   "execution_count": null,
   "metadata": {
    "colab": {
     "base_uri": "https://localhost:8080/"
    },
    "executionInfo": {
     "elapsed": 216,
     "status": "ok",
     "timestamp": 1687877234252,
     "user": {
      "displayName": "Will Long",
      "userId": "09434312086322271921"
     },
     "user_tz": 0
    },
    "id": "Hm5PEQ50CHO3",
    "outputId": "b26778f6-8007-4ff7-d5b3-414c08cac085"
   },
   "outputs": [
    {
     "name": "stdout",
     "output_type": "stream",
     "text": [
      "Array:\n",
      "[[0 3 4]\n",
      " [3 8 8]\n",
      " [9 0 9]]\n",
      "\n",
      "Norm:\n",
      "18.0\n",
      "\n",
      "Inverse:\n",
      "[[-0.47058824  0.17647059  0.05228758]\n",
      " [-0.29411765  0.23529412 -0.07843137]\n",
      " [ 0.47058824 -0.17647059  0.05882353]]\n",
      "\n",
      "Determinant:\n",
      "-152.99999999999997\n",
      "\n",
      "Eigenvalues:\n",
      "[14.38324965 -2.20577041  4.82252076]\n",
      "Eigenvectors:\n",
      "[[ 0.31044897  0.75427073 -0.19721008]\n",
      " [ 0.79638845  0.25314837 -0.88351153]\n",
      " [ 0.51902492 -0.60579829  0.42487122]]\n",
      "\n"
     ]
    }
   ],
   "source": [
    "arr = np.random.randint(0, 10, size=(3, 3))\n",
    "\n",
    "print(\"Array:\")\n",
    "print(arr)\n",
    "print()\n",
    "\n",
    "print(\"Norm:\")\n",
    "print(np.linalg.norm(arr))\n",
    "print()\n",
    "\n",
    "print(\"Inverse:\")\n",
    "print(np.linalg.inv(arr))\n",
    "print()\n",
    "\n",
    "print(\"Determinant:\")\n",
    "print(np.linalg.det(arr))\n",
    "print()\n",
    "\n",
    "eigvals, eigvecs = np.linalg.eig(arr)\n",
    "print(\"Eigenvalues:\")\n",
    "print(eigvals)\n",
    "print(\"Eigenvectors:\")\n",
    "print(eigvecs)\n",
    "print()"
   ]
  },
  {
   "cell_type": "markdown",
   "metadata": {
    "id": "tWlPDFrbCHO3"
   },
   "source": [
    "Some other common linear algebra operations include...\n",
    "\n",
    "- `np.linalg.cholesky()`: Cholesky decomposition of a matrix\n",
    "- `np.linalg.svd()`: singular value decomposition of a matrix\n",
    "- `np.linalg.lstsq()`: solve linear least-squares problem"
   ]
  }
 ],
 "metadata": {
  "colab": {
   "provenance": [
    {
     "file_id": "1gRlMk7BHBkhREouhXWd6T3ORJP-Hzq9K",
     "timestamp": 1752179764748
    }
   ]
  },
  "kernelspec": {
   "display_name": "pni_bootcamp",
   "language": "python",
   "name": "python3"
  },
  "language_info": {
   "codemirror_mode": {
    "name": "ipython",
    "version": 3
   },
   "file_extension": ".py",
   "mimetype": "text/x-python",
   "name": "python",
   "nbconvert_exporter": "python",
   "pygments_lexer": "ipython3",
   "version": "3.12.5"
  },
  "orig_nbformat": 4
 },
 "nbformat": 4,
 "nbformat_minor": 0
}

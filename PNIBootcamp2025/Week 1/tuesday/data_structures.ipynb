{
 "cells": [
  {
   "cell_type": "markdown",
   "metadata": {
    "id": "UIgTPTkSm73v"
   },
   "source": [
    "Manually create a list containing all the integers between 0 and 10 (including 0 and excluding 10) and save it to a variable.\n",
    "\n",
    "Now create the same list using the range function."
   ]
  },
  {
   "cell_type": "code",
   "execution_count": 4,
   "metadata": {
    "id": "NTtj6IVNoShx"
   },
   "outputs": [],
   "source": [
    "zero_to_ten = [0, 1, 2, 3, 4, 5, 6, 7, 8, 9]\n",
    "zero_to_ten = [i for i in range(10)]"
   ]
  },
  {
   "cell_type": "markdown",
   "metadata": {
    "id": "mJ2AwSA1oW9p"
   },
   "source": [
    "Using that list, create a list containing every odd number between 0 and 10.\n",
    "\n",
    "Create a new list containing the first 2 elements of that list.\n"
   ]
  },
  {
   "cell_type": "code",
   "execution_count": 6,
   "metadata": {
    "id": "R0_q10QhorWI"
   },
   "outputs": [
    {
     "data": {
      "text/plain": [
       "[1, 3]"
      ]
     },
     "execution_count": 6,
     "metadata": {},
     "output_type": "execute_result"
    }
   ],
   "source": [
    "odds = [i for i in zero_to_ten if i % 2 == 1]\n",
    "first_two_odds = odds[:2]\n",
    "first_two_odds"
   ]
  },
  {
   "cell_type": "markdown",
   "metadata": {
    "id": "CAUehXqeouru"
   },
   "source": [
    "Print the last element of the list created below"
   ]
  },
  {
   "cell_type": "code",
   "execution_count": 7,
   "metadata": {
    "id": "RIWcCQWzo1ma"
   },
   "outputs": [
    {
     "name": "stdout",
     "output_type": "stream",
     "text": [
      "9\n"
     ]
    }
   ],
   "source": [
    "import random #ignore this\n",
    "x = [1,5,2,9,4]\n",
    "random.shuffle(x)\n",
    "\n",
    "# insert code here\n",
    "print(x[-1])"
   ]
  },
  {
   "cell_type": "markdown",
   "metadata": {
    "id": "q4qT_WpXpq-X"
   },
   "source": [
    "Using a list comprehension, create a list containing only the elements from `a` that are not in `b`"
   ]
  },
  {
   "cell_type": "code",
   "execution_count": 8,
   "metadata": {
    "id": "irjToUBBo6xZ"
   },
   "outputs": [
    {
     "data": {
      "text/plain": [
       "[1, 4, 8, 2, 7]"
      ]
     },
     "execution_count": 8,
     "metadata": {},
     "output_type": "execute_result"
    }
   ],
   "source": [
    "a = [1,4,6,8,2,5,7,54]\n",
    "b = [6,5,54]\n",
    "\n",
    "# insert code here\n",
    "c = [i for i in a if i not in b]\n",
    "c"
   ]
  },
  {
   "cell_type": "markdown",
   "metadata": {
    "id": "TWCnQRFmqBDg"
   },
   "source": [
    "Add a 0 to the end of the list you just created."
   ]
  },
  {
   "cell_type": "code",
   "execution_count": 9,
   "metadata": {
    "id": "h04MB2G5qMJp"
   },
   "outputs": [],
   "source": [
    "c.append(0)"
   ]
  },
  {
   "cell_type": "markdown",
   "metadata": {
    "id": "m3P5BCPIqQb_"
   },
   "source": [
    "Using the `join()` function for strings, print the list you just created with a \"-\" between every element"
   ]
  },
  {
   "cell_type": "code",
   "execution_count": 12,
   "metadata": {
    "id": "lp4LydC1qd0K"
   },
   "outputs": [
    {
     "name": "stdout",
     "output_type": "stream",
     "text": [
      "1-4-8-2-7-0\n"
     ]
    }
   ],
   "source": [
    "string_list = [str(i) for i in c]\n",
    "print('-'.join(string_list))"
   ]
  },
  {
   "cell_type": "markdown",
   "metadata": {
    "id": "iIQPdtcvqpjJ"
   },
   "source": [
    "Create a list containing every 3rd character in the following string."
   ]
  },
  {
   "cell_type": "code",
   "execution_count": 17,
   "metadata": {
    "id": "uYVKXmYJqicj"
   },
   "outputs": [
    {
     "data": {
      "text/plain": [
       "['d',\n",
       " 'c',\n",
       " 't',\n",
       " ' ',\n",
       " 's',\n",
       " 'r',\n",
       " 'g',\n",
       " 't',\n",
       " ' ',\n",
       " 'c',\n",
       " ' ',\n",
       " ' ',\n",
       " 'e',\n",
       " 'e',\n",
       " ' ',\n",
       " ' ',\n",
       " 'e',\n",
       " 'o']"
      ]
     },
     "execution_count": 17,
     "metadata": {},
     "output_type": "execute_result"
    }
   ],
   "source": [
    "text = 'descartes was wrong, the uncus is the seat of the soul'\n",
    "\n",
    "# insert code here\n",
    "every_third_char = list(text[::3])\n",
    "every_third_char"
   ]
  },
  {
   "cell_type": "markdown",
   "metadata": {
    "id": "LDusHrVtrUvp"
   },
   "source": [
    "Modify that list so that there are no repeat elements (make it so each element appears only once)."
   ]
  },
  {
   "cell_type": "code",
   "execution_count": 18,
   "metadata": {
    "id": "k_21tDoErClR"
   },
   "outputs": [
    {
     "data": {
      "text/plain": [
       "[' ', 's', 'o', 'd', 't', 'r', 'g', 'c', 'e']"
      ]
     },
     "execution_count": 18,
     "metadata": {},
     "output_type": "execute_result"
    }
   ],
   "source": [
    "no_repeats = list(set(every_third_char))\n",
    "no_repeats"
   ]
  },
  {
   "cell_type": "markdown",
   "metadata": {
    "id": "VS5dPI-freNs"
   },
   "source": [
    "Sort that list alphabetically in one line of code."
   ]
  },
  {
   "cell_type": "code",
   "execution_count": 20,
   "metadata": {
    "id": "2letknSjrnfh"
   },
   "outputs": [
    {
     "data": {
      "text/plain": [
       "[' ', 'c', 'd', 'e', 'g', 'o', 'r', 's', 't']"
      ]
     },
     "execution_count": 20,
     "metadata": {},
     "output_type": "execute_result"
    }
   ],
   "source": [
    "no_repeats.sort()\n",
    "no_repeats"
   ]
  },
  {
   "cell_type": "markdown",
   "metadata": {
    "id": "EEeJMVdzuy-Q"
   },
   "source": [
    "Save that list to a dict under the key \"my list\""
   ]
  },
  {
   "cell_type": "code",
   "execution_count": 22,
   "metadata": {
    "id": "h2-n02QKu7MB"
   },
   "outputs": [
    {
     "data": {
      "text/plain": [
       "{'my list': [' ', 'c', 'd', 'e', 'g', 'o', 'r', 's', 't']}"
      ]
     },
     "execution_count": 22,
     "metadata": {},
     "output_type": "execute_result"
    }
   ],
   "source": [
    "third_char_no_reps = {'my list' : no_repeats}\n",
    "third_char_no_reps"
   ]
  },
  {
   "cell_type": "markdown",
   "metadata": {
    "id": "quI7aVLyu7kl"
   },
   "source": [
    "Create a list containing tuples of each key, value pair in the following dict"
   ]
  },
  {
   "cell_type": "code",
   "execution_count": 24,
   "metadata": {
    "id": "0kjyCVYOu73K"
   },
   "outputs": [
    {
     "data": {
      "text/plain": [
       "[('one', 1), ('two', 3), ('four', 7), ('all', [1, 3, 7])]"
      ]
     },
     "execution_count": 24,
     "metadata": {},
     "output_type": "execute_result"
    }
   ],
   "source": [
    "a = {'one': 1, 'two': 3, 'four': 7, 'all': [1,3,7]}\n",
    "\n",
    "# insert code here\n",
    "key_val_pairs = list(a.items())\n",
    "key_val_pairs"
   ]
  },
  {
   "cell_type": "markdown",
   "metadata": {
    "id": "5QOtOongz5iU"
   },
   "source": [
    "Sum each pair of elements of the following two lists (look up the `zip()` function)"
   ]
  },
  {
   "cell_type": "code",
   "execution_count": 26,
   "metadata": {
    "id": "gYfs8oL40BzI"
   },
   "outputs": [
    {
     "data": {
      "text/plain": [
       "[6, 18, 89, 45, 10]"
      ]
     },
     "execution_count": 26,
     "metadata": {},
     "output_type": "execute_result"
    }
   ],
   "source": [
    "a = [1,6,89,2,5]\n",
    "b = [5,12,0,43,5]\n",
    "\n",
    "# insert code here\n",
    "summed_pairs = [i + j for i, j in zip(a, b)]\n",
    "summed_pairs"
   ]
  },
  {
   "cell_type": "markdown",
   "metadata": {
    "id": "1uao-vKS0uJq"
   },
   "source": [
    "The fibonacci sequence is a list of numbers where each element is formed by adding together the two before it (e.g. [1,2,3,5,8,13,21,34, etc...]).\n",
    "\n",
    "Write an expression that will append the next element in the sequence given a list containing the beginning of a fibonacci sequence."
   ]
  },
  {
   "cell_type": "code",
   "execution_count": 27,
   "metadata": {
    "id": "D5yvjz9M1MCt"
   },
   "outputs": [
    {
     "data": {
      "text/plain": [
       "[1, 2, 3, 5, 8, 13, 21, 34, 55, 89, 144]"
      ]
     },
     "execution_count": 27,
     "metadata": {},
     "output_type": "execute_result"
    }
   ],
   "source": [
    "# for example if i give you this list, write an expression that you could run multiple times to continue the sequence (dont just write 55+89)\n",
    "a = [1,2,3,5,8,13,21,34,55,89]\n",
    "\n",
    "# insert code here\n",
    "a.append(sum(a[-2:]))\n",
    "a"
   ]
  },
  {
   "cell_type": "markdown",
   "metadata": {
    "id": "dG1MkoMrsaPL"
   },
   "source": [
    "Now for a harder one, courtesy of [Project Euler](https://projecteuler.net/archives). This is solvable using only built-in python functions (you may have to do some googling), and what we've discussed about lists. You may use list comprehensions.\n",
    "\n",
    "If we list all the natural numbers below 10 that are multiples of\n",
    "3 or 5, we get 3, 5, 6, and 9. The sum of these multiples is 23.\n",
    "\n",
    "Find the sum of all the multiples of 3 or 5 below 1000."
   ]
  },
  {
   "cell_type": "code",
   "execution_count": 28,
   "metadata": {
    "id": "hgU3XBshsDAr"
   },
   "outputs": [
    {
     "data": {
      "text/plain": [
       "233168"
      ]
     },
     "execution_count": 28,
     "metadata": {},
     "output_type": "execute_result"
    }
   ],
   "source": [
    "up_to_1k = list(range(1000))\n",
    "multipled_of_3_or_5 = [i for i in up_to_1k\n",
    "                       if (i % 3 == 0) | (i % 5 == 0)]\n",
    "summed_numbers = sum(multipled_of_3_or_5)\n",
    "summed_numbers"
   ]
  },
  {
   "cell_type": "markdown",
   "metadata": {
    "id": "hhZylheg2KPr"
   },
   "source": [
    "I hope you can start to see how useful it would be if there was a way to run the same block of code an arbitrary number of times, perhaps with slight modifications each time. This is what we use loops for, which we will cover tomorrow."
   ]
  }
 ],
 "metadata": {
  "colab": {
   "provenance": [
    {
     "file_id": "10CYa0PH5VrxQ6JDhlfUHsJrhEiSlrDFO",
     "timestamp": 1752757178315
    }
   ]
  },
  "kernelspec": {
   "display_name": "pni_bootcamp",
   "language": "python",
   "name": "python3"
  },
  "language_info": {
   "codemirror_mode": {
    "name": "ipython",
    "version": 3
   },
   "file_extension": ".py",
   "mimetype": "text/x-python",
   "name": "python",
   "nbconvert_exporter": "python",
   "pygments_lexer": "ipython3",
   "version": "3.12.5"
  }
 },
 "nbformat": 4,
 "nbformat_minor": 0
}
